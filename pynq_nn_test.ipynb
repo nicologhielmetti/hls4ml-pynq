{
 "cells": [
  {
   "cell_type": "markdown",
   "metadata": {},
   "source": [
    "## PYNQ test hls4ml NN IP\n",
    "This notebook is a performance & resource comparison between the system passing encoded integer values vs the system passing floating point values, delegating the decoding/encoding on the FPGA. "
   ]
  },
  {
   "cell_type": "markdown",
   "metadata": {},
   "source": [
    "### Drivers definition"
   ]
  },
  {
   "cell_type": "code",
   "execution_count": 2,
   "metadata": {},
   "outputs": [],
   "source": [
    "from pynq import DefaultHierarchy, DefaultIP, allocate\n",
    "from datetime import datetime\n",
    "import pynq.lib.dma\n",
    "import numpy as np\n",
    "\n",
    "\n",
    "class AxiLiteNN(DefaultIP):\n",
    "    \"\"\"\n",
    "    Basic driver to read/write 'vector_rows' register of the accelerator using AxiLite protocol.\n",
    "    The address for reading/writing is taken from the .h driver file produced by vivado_hls.\n",
    "    \"\"\"\n",
    "    def __init__(self, description):\n",
    "        super().__init__(description=description)\n",
    "    \n",
    "    # can it be written by hls4ml? Should improve flexibility\n",
    "    bindto = ['CERN:hls4ml:myproject_axi:1.0']\n",
    "\n",
    "    @property\n",
    "    def vector_rows(self):\n",
    "        return self.read(0x10)\n",
    "\n",
    "    @vector_rows.setter\n",
    "    def vector_rows(self, value):\n",
    "        self.write(0x10, value)\n",
    "\n",
    "class NN(DefaultHierarchy):\n",
    "    \"\"\"\n",
    "    Hierarchy driver related to the hierarchy composed by the AXI DMA module + the HLS accelerator.\n",
    "    It uses the AxiLiteNN class to write the number of rows of the input matrix to the accelerator.\n",
    "    \"\"\"\n",
    "    def __init__(self, description):\n",
    "        super().__init__(description=description)\n",
    "    \n",
    "    def _print_dt(self, timea, timeb, N):\n",
    "        dt = (timeb - timea) \n",
    "        dts = dt.seconds + dt.microseconds * 10**-6\n",
    "        rate = N / dts\n",
    "        print(\"Classified {} samples in {} seconds ({} inferences / s)\".format(N, dts, rate))\n",
    "        return dts, rate\n",
    "    \n",
    "    def predict(self, X, y_shape, dtype=np.float32, profile=False, encode=None, decode=None):\n",
    "        \"\"\"\n",
    "        Obtain the predictions of the NN implemented in the FPGA.\n",
    "        Parameters:\n",
    "        - X : the input vector. Should be numpy ndarray.\n",
    "        - y_shape : the shape of the output vector. Needed to the accelerator to set the TLAST bit properly and\n",
    "                    for sizing the output vector shape.\n",
    "        - dtype : the data type of the elements of the input/output vectors. \n",
    "                  Note: it should be set depending on the interface of the accelerator; if it uses 'float' \n",
    "                  types for the 'data' AXI-Stream field, 'np.float32' dtype is the correct one to use. \n",
    "                  Instead if it uses 'ap_fixed<A,B>', 'np.intA' is the correct one to use (note that A cannot\n",
    "                  any integer value, but it can assume {..., 8, 16, 32, ...} values. Check `numpy` \n",
    "                  doc for more info).\n",
    "                  In this case the encoding/decoding has to be computed by the PS. For example for \n",
    "                  'ap_fixed<16,6>' type the following 2 functions are the correct one to use for encode/decode \n",
    "                  'float' -> 'ap_fixed<16,6>':\n",
    "                  \n",
    "                  ```\n",
    "                    def encode(xi):\n",
    "                        return np.int16(round(xi * 2**10)) # note 2**10 = 2**(A-B)\n",
    "\n",
    "                    def decode(yi):\n",
    "                        return yi * 2**-10\n",
    "\n",
    "                    encode_v = np.vectorize(encode) # to apply them element-wise\n",
    "                    decode_v = np.vectorize(decode)\n",
    "                  ```\n",
    "        - profile : boolean. Set it to `True` to print the performance of the algorithm in term of `inference/s`.\n",
    "        - encode/decode: function pointers. See `dtype` section for more information.\n",
    "        - return: an output array based on `np.ndarray` with a shape equal to `y_shape` and a `dtype` equal to\n",
    "                  the namesake parameter.\n",
    "        \n",
    "        \"\"\"\n",
    "        if profile:\n",
    "            timea = datetime.now()\n",
    "        if encode is not None:\n",
    "            X = encode(X)\n",
    "        self.myproject_axi_0.vector_rows = X.shape[0]\n",
    "        with allocate(shape=X.shape, dtype=dtype) as input_buffer, \\\n",
    "             allocate(shape=y_shape, dtype=dtype) as output_buffer:\n",
    "            input_buffer[:] = X \n",
    "            self.axi_dma_0.sendchannel.transfer(input_buffer)\n",
    "            self.axi_dma_0.recvchannel.transfer(output_buffer)\n",
    "            self.axi_dma_0.sendchannel.wait()\n",
    "            self.axi_dma_0.recvchannel.wait()\n",
    "            result = output_buffer.copy()\n",
    "        if decode is not None:\n",
    "            result = decode(result)\n",
    "        if profile:\n",
    "            timeb = datetime.now()\n",
    "            dts, rate = self._print_dt(timea, timeb, len(X))\n",
    "            return result, dts, rate\n",
    "        return result\n",
    "    \n",
    "    @staticmethod\n",
    "    def checkhierarchy(description):\n",
    "        # can they be written by hls4ml? Should improve flexibility\n",
    "        if 'axi_dma_0' in description['ip'] \\\n",
    "           and 'myproject_axi_0' in description['ip']:\n",
    "            return True\n",
    "        return False"
   ]
  },
  {
   "cell_type": "markdown",
   "metadata": {},
   "source": [
    "## Load bitfile (overlay)"
   ]
  },
  {
   "cell_type": "code",
   "execution_count": 3,
   "metadata": {
    "scrolled": false
   },
   "outputs": [],
   "source": [
    "from pynq import Overlay\n",
    "\n",
    "overlay = Overlay(\"./nn_float.bit\")"
   ]
  },
  {
   "cell_type": "markdown",
   "metadata": {},
   "source": [
    "## Inspect the structure of the overlay\n",
    "To pretty-print and reduce elements of the json output, copy-paste the code [here](https://jsonformatter.curiousconcept.com/)"
   ]
  },
  {
   "cell_type": "code",
   "execution_count": 4,
   "metadata": {
    "scrolled": true
   },
   "outputs": [
    {
     "name": "stdout",
     "output_type": "stream",
     "text": [
      "{'hier_0/axi_dma_0': {'fullpath': 'hier_0/axi_dma_0', 'type': 'xilinx.com:ip:axi_dma:7.1', 'state': None, 'addr_range': 65536, 'phys_addr': 1077936128, 'mem_id': 'S_AXI_LITE', 'gpio': {}, 'interrupts': {}, 'parameters': {'C_S_AXI_LITE_ADDR_WIDTH': '10', 'C_S_AXI_LITE_DATA_WIDTH': '32', 'C_DLYTMR_RESOLUTION': '125', 'C_PRMRY_IS_ACLK_ASYNC': '0', 'C_ENABLE_MULTI_CHANNEL': '0', 'C_NUM_MM2S_CHANNELS': '1', 'C_NUM_S2MM_CHANNELS': '1', 'C_INCLUDE_SG': '0', 'C_SG_INCLUDE_STSCNTRL_STRM': '0', 'C_SG_USE_STSAPP_LENGTH': '0', 'C_SG_LENGTH_WIDTH': '26', 'C_M_AXI_SG_ADDR_WIDTH': '32', 'C_M_AXI_SG_DATA_WIDTH': '32', 'C_M_AXIS_MM2S_CNTRL_TDATA_WIDTH': '32', 'C_S_AXIS_S2MM_STS_TDATA_WIDTH': '32', 'C_MICRO_DMA': '0', 'C_INCLUDE_MM2S': '1', 'C_INCLUDE_MM2S_SF': '1', 'C_MM2S_BURST_SIZE': '128', 'C_M_AXI_MM2S_ADDR_WIDTH': '32', 'C_M_AXI_MM2S_DATA_WIDTH': '32', 'C_M_AXIS_MM2S_TDATA_WIDTH': '32', 'C_INCLUDE_MM2S_DRE': '0', 'C_INCLUDE_S2MM': '1', 'C_INCLUDE_S2MM_SF': '1', 'C_S2MM_BURST_SIZE': '128', 'C_M_AXI_S2MM_ADDR_WIDTH': '32', 'C_M_AXI_S2MM_DATA_WIDTH': '32', 'C_S_AXIS_S2MM_TDATA_WIDTH': '32', 'C_INCLUDE_S2MM_DRE': '0', 'C_INCREASE_THROUGHPUT': '0', 'C_FAMILY': 'zynq', 'Component_Name': 'design_1_axi_dma_0_0', 'c_include_sg': '0', 'c_enable_multi_channel': '0', 'c_num_mm2s_channels': '1', 'c_num_s2mm_channels': '1', 'c_sg_length_width': '26', 'c_dlytmr_resolution': '125', 'c_prmry_is_aclk_async': '0', 'c_sg_include_stscntrl_strm': '0', 'c_micro_dma': '0', 'c_include_mm2s': '1', 'c_m_axi_mm2s_data_width': '32', 'c_m_axis_mm2s_tdata_width': '32', 'c_include_mm2s_dre': '0', 'c_include_mm2s_sf': '1', 'c_mm2s_burst_size': '128', 'c_include_s2mm': '1', 'c_sg_use_stsapp_length': '0', 'c_m_axi_s2mm_data_width': '32', 'c_s_axis_s2mm_tdata_width': '32', 'c_include_s2mm_dre': '0', 'c_include_s2mm_sf': '1', 'c_s2mm_burst_size': '128', 'c_addr_width': '32', 'c_single_interface': '0', 'c_increase_throughput': '0', 'EDK_IPTYPE': 'PERIPHERAL', 'C_BASEADDR': '0x40400000', 'C_HIGHADDR': '0x4040FFFF'}, 'registers': {'MM2S_DMACR': {'address_offset': 0, 'size': 32, 'access': 'read-write', 'description': 'MM2S DMA Control Register', 'fields': {'RS': {'bit_offset': 0, 'bit_width': 1, 'description': 'MM2S DMA Control Register', 'access': 'read-write'}, 'Reset': {'bit_offset': 2, 'bit_width': 1, 'description': 'MM2S DMA Control Register', 'access': 'read-write'}, 'Keyhole': {'bit_offset': 3, 'bit_width': 1, 'description': 'MM2S DMA Control Register', 'access': 'read-write'}, 'Cyclic_BD_Enable': {'bit_offset': 4, 'bit_width': 1, 'description': 'MM2S DMA Control Register', 'access': 'read-write'}, 'IOC_IrqEn': {'bit_offset': 12, 'bit_width': 1, 'description': 'MM2S DMA Control Register', 'access': 'read-write'}, 'Dly_IrqEn': {'bit_offset': 13, 'bit_width': 1, 'description': 'MM2S DMA Control Register', 'access': 'read-write'}, 'Err_IrqEn': {'bit_offset': 14, 'bit_width': 1, 'description': 'MM2S DMA Control Register', 'access': 'read-write'}, 'IRQThreshold': {'bit_offset': 16, 'bit_width': 8, 'description': 'MM2S DMA Control Register', 'access': 'read-write'}, 'IRQDelay': {'bit_offset': 24, 'bit_width': 8, 'description': 'MM2S DMA Control Register', 'access': 'read-write'}}}, 'MM2S_DMASR': {'address_offset': 4, 'size': 32, 'access': 'read-write', 'description': 'MM2S DMA Status Register', 'fields': {'Halted': {'bit_offset': 0, 'bit_width': 1, 'description': 'MM2S DMA Status Register', 'access': 'read-only'}, 'Idle': {'bit_offset': 1, 'bit_width': 1, 'description': 'MM2S DMA Status Register', 'access': 'read-only'}, 'SGIncld': {'bit_offset': 3, 'bit_width': 1, 'description': 'MM2S DMA Status Register', 'access': 'read-only'}, 'DMAIntErr': {'bit_offset': 4, 'bit_width': 1, 'description': 'MM2S DMA Status Register', 'access': 'read-only'}, 'DMASlvErr': {'bit_offset': 5, 'bit_width': 1, 'description': 'MM2S DMA Status Register', 'access': 'read-only'}, 'DMADecErr': {'bit_offset': 6, 'bit_width': 1, 'description': 'MM2S DMA Status Register', 'access': 'read-only'}, 'SGIntErr': {'bit_offset': 8, 'bit_width': 1, 'description': 'MM2S DMA Status Register', 'access': 'read-only'}, 'SGSlvErr': {'bit_offset': 9, 'bit_width': 1, 'description': 'MM2S DMA Status Register', 'access': 'read-only'}, 'SGDecErr': {'bit_offset': 10, 'bit_width': 1, 'description': 'MM2S DMA Status Register', 'access': 'read-only'}, 'IOC_Irq': {'bit_offset': 12, 'bit_width': 1, 'description': 'MM2S DMA Status Register', 'access': 'read-write'}, 'Dly_Irq': {'bit_offset': 13, 'bit_width': 1, 'description': 'MM2S DMA Status Register', 'access': 'read-write'}, 'Err_Irq': {'bit_offset': 14, 'bit_width': 1, 'description': 'MM2S DMA Status Register', 'access': 'read-write'}, 'IRQThresholdSts': {'bit_offset': 16, 'bit_width': 8, 'description': 'MM2S DMA Status Register', 'access': 'read-only'}, 'IRQDelaySts': {'bit_offset': 24, 'bit_width': 8, 'description': 'MM2S DMA Status Register', 'access': 'read-only'}}}, 'MM2S_CURDESC': {'address_offset': 8, 'size': 32, 'access': 'read-write', 'description': 'MM2S DMA Current Descriptor Pointer Register', 'fields': {'Current_Descriptor_Pointer': {'bit_offset': 6, 'bit_width': 26, 'description': 'MM2S DMA Current Descriptor Pointer Register', 'access': 'read-write'}}}, 'MM2S_CURDESC_MSB': {'address_offset': 12, 'size': 32, 'access': 'read-write', 'description': 'MM2S DMA Current Descriptor Pointer Register', 'fields': {'Current_Descriptor_Pointer': {'bit_offset': 0, 'bit_width': 32, 'description': 'MM2S DMA Current Descriptor Pointer Register', 'access': 'read-write'}}}, 'MM2S_TAILDESC': {'address_offset': 16, 'size': 32, 'access': 'read-write', 'description': 'MM2S DMA Tail Descriptor Pointer Register', 'fields': {'Tail_Descriptor_Pointer': {'bit_offset': 6, 'bit_width': 26, 'description': 'MM2S DMA Tail Descriptor Pointer Register', 'access': 'read-write'}}}, 'MM2S_TAILDESC_MSB': {'address_offset': 20, 'size': 32, 'access': 'read-write', 'description': 'MM2S DMA Tail Descriptor Pointer Register', 'fields': {'Tail_Descriptor_Pointer': {'bit_offset': 0, 'bit_width': 32, 'description': 'MM2S DMA Tail Descriptor Pointer Register', 'access': 'read-write'}}}, 'MM2S_SA': {'address_offset': 24, 'size': 32, 'access': 'read-write', 'description': 'MM2S Source Address Register', 'fields': {'Source_Address': {'bit_offset': 0, 'bit_width': 32, 'description': 'MM2S Source Address Register', 'access': 'read-write'}}}, 'MM2S_SA_MSB': {'address_offset': 28, 'size': 32, 'access': 'read-write', 'description': 'MM2S Source Address Register', 'fields': {'Source_Address': {'bit_offset': 0, 'bit_width': 32, 'description': 'MM2S Source Address Register', 'access': 'read-write'}}}, 'MM2S_LENGTH': {'address_offset': 40, 'size': 32, 'access': 'read-write', 'description': 'MM2S DMA Transfer Length Register', 'fields': {'Length': {'bit_offset': 0, 'bit_width': 26, 'description': 'MM2S DMA Transfer Length Register', 'access': 'read-write'}}}, 'SG_CTL': {'address_offset': 44, 'size': 32, 'access': 'read-write', 'description': 'Scatter/Gather User and Cache Control Register', 'fields': {'SG_CACHE': {'bit_offset': 0, 'bit_width': 4, 'description': 'Scatter/Gather User and Cache Control Register', 'access': 'read-write'}, 'SG_USER': {'bit_offset': 8, 'bit_width': 4, 'description': 'Scatter/Gather User and Cache Control Register', 'access': 'read-write'}}}, 'S2MM_DMACR': {'address_offset': 48, 'size': 32, 'access': 'read-write', 'description': 'S2MM DMA Control Register', 'fields': {'RS': {'bit_offset': 0, 'bit_width': 1, 'description': 'S2MM DMA Control Register', 'access': 'read-write'}, 'Reset': {'bit_offset': 2, 'bit_width': 1, 'description': 'S2MM DMA Control Register', 'access': 'read-write'}, 'Keyhole': {'bit_offset': 3, 'bit_width': 1, 'description': 'S2MM DMA Control Register', 'access': 'read-write'}, 'Cyclic_BD_Enable': {'bit_offset': 4, 'bit_width': 1, 'description': 'S2MM DMA Control Register', 'access': 'read-write'}, 'IOC_IrqEn': {'bit_offset': 12, 'bit_width': 1, 'description': 'S2MM DMA Control Register', 'access': 'read-write'}, 'Dly_IrqEn': {'bit_offset': 13, 'bit_width': 1, 'description': 'S2MM DMA Control Register', 'access': 'read-write'}, 'Err_IrqEn': {'bit_offset': 14, 'bit_width': 1, 'description': 'S2MM DMA Control Register', 'access': 'read-write'}, 'IRQThreshold': {'bit_offset': 16, 'bit_width': 8, 'description': 'S2MM DMA Control Register', 'access': 'read-write'}, 'IRQDelay': {'bit_offset': 24, 'bit_width': 8, 'description': 'S2MM DMA Control Register', 'access': 'read-write'}}}, 'S2MM_DMASR': {'address_offset': 52, 'size': 32, 'access': 'read-write', 'description': 'S2MM DMA Status Register', 'fields': {'Halted': {'bit_offset': 0, 'bit_width': 1, 'description': 'S2MM DMA Status Register', 'access': 'read-only'}, 'Idle': {'bit_offset': 1, 'bit_width': 1, 'description': 'S2MM DMA Status Register', 'access': 'read-only'}, 'SGIncld': {'bit_offset': 3, 'bit_width': 1, 'description': 'S2MM DMA Status Register', 'access': 'read-only'}, 'DMAIntErr': {'bit_offset': 4, 'bit_width': 1, 'description': 'S2MM DMA Status Register', 'access': 'read-only'}, 'DMASlvErr': {'bit_offset': 5, 'bit_width': 1, 'description': 'S2MM DMA Status Register', 'access': 'read-only'}, 'DMADecErr': {'bit_offset': 6, 'bit_width': 1, 'description': 'S2MM DMA Status Register', 'access': 'read-only'}, 'SGIntErr': {'bit_offset': 8, 'bit_width': 1, 'description': 'S2MM DMA Status Register', 'access': 'read-only'}, 'SGSlvErr': {'bit_offset': 9, 'bit_width': 1, 'description': 'S2MM DMA Status Register', 'access': 'read-only'}, 'SGDecErr': {'bit_offset': 10, 'bit_width': 1, 'description': 'S2MM DMA Status Register', 'access': 'read-only'}, 'IOC_Irq': {'bit_offset': 12, 'bit_width': 1, 'description': 'S2MM DMA Status Register', 'access': 'read-write'}, 'Dly_Irq': {'bit_offset': 13, 'bit_width': 1, 'description': 'S2MM DMA Status Register', 'access': 'read-write'}, 'Err_Irq': {'bit_offset': 14, 'bit_width': 1, 'description': 'S2MM DMA Status Register', 'access': 'read-write'}, 'IRQThresholdSts': {'bit_offset': 16, 'bit_width': 8, 'description': 'S2MM DMA Status Register', 'access': 'read-only'}, 'IRQDelaySts': {'bit_offset': 24, 'bit_width': 8, 'description': 'S2MM DMA Status Register', 'access': 'read-only'}}}, 'S2MM_CURDESC': {'address_offset': 56, 'size': 32, 'access': 'read-write', 'description': 'S2MM DMA Current Descriptor Pointer Register', 'fields': {'Current_Descriptor_Pointer': {'bit_offset': 6, 'bit_width': 26, 'description': 'S2MM DMA Current Descriptor Pointer Register', 'access': 'read-write'}}}, 'S2MM_CURDESC_MSB': {'address_offset': 60, 'size': 32, 'access': 'read-write', 'description': 'S2MM DMA Current Descriptor Pointer Register', 'fields': {'Current_Descriptor_Pointer': {'bit_offset': 0, 'bit_width': 32, 'description': 'S2MM DMA Current Descriptor Pointer Register', 'access': 'read-write'}}}, 'S2MM_TAILDESC': {'address_offset': 64, 'size': 32, 'access': 'read-write', 'description': 'S2MM DMA Tail Descriptor Pointer Register', 'fields': {'Tail_Descriptor_Pointer': {'bit_offset': 6, 'bit_width': 26, 'description': 'S2MM DMA Tail Descriptor Pointer Register', 'access': 'read-write'}}}, 'S2MM_TAILDESC_MSB': {'address_offset': 68, 'size': 32, 'access': 'read-write', 'description': 'S2MM DMA Tail Descriptor Pointer Register', 'fields': {'Tail_Descriptor_Pointer': {'bit_offset': 0, 'bit_width': 32, 'description': 'S2MM DMA Tail Descriptor Pointer Register', 'access': 'read-write'}}}, 'S2MM_DA': {'address_offset': 72, 'size': 32, 'access': 'read-write', 'description': 'S2MM DMA Destination Address Register', 'fields': {'Destination_Address': {'bit_offset': 0, 'bit_width': 32, 'description': 'S2MM DMA Destination Address Register', 'access': 'read-write'}}}, 'S2MM_DA_MSB': {'address_offset': 76, 'size': 32, 'access': 'read-write', 'description': 'S2MM Destination Address Register', 'fields': {'Destination_Address': {'bit_offset': 0, 'bit_width': 32, 'description': 'S2MM Destination Address Register', 'access': 'read-write'}}}, 'S2MM_LENGTH': {'address_offset': 88, 'size': 32, 'access': 'read-write', 'description': 'S2MM DMA Transfer Length Register', 'fields': {'Length': {'bit_offset': 0, 'bit_width': 26, 'description': 'S2MM DMA Transfer Length Register', 'access': 'read-write'}}}}, 'device': <pynq.pl_server.device.XlnkDevice object at 0xb54370b0>, 'driver': <class 'pynq.lib.dma.DMA'>}, 'hier_0/myproject_axi_0': {'fullpath': 'hier_0/myproject_axi_0', 'type': 'CERN:hls4ml:myproject_axi:1.0', 'state': None, 'addr_range': 65536, 'phys_addr': 1136656384, 'mem_id': 's_axi_AXILiteS', 'gpio': {}, 'interrupts': {}, 'parameters': {'C_S_AXI_AXILITES_ADDR_WIDTH': '5', 'C_S_AXI_AXILITES_DATA_WIDTH': '32', 'Component_Name': 'design_1_myproject_axi_0_7', 'clk_period': '5', 'machine': '64', 'combinational': '0', 'latency': '299', 'II': 'x', 'EDK_IPTYPE': 'PERIPHERAL', 'C_S_AXI_AXILITES_BASEADDR': '0x43C00000', 'C_S_AXI_AXILITES_HIGHADDR': '0x43C0FFFF'}, 'registers': {'vector_rows': {'address_offset': 16, 'size': 32, 'access': 'write-only', 'description': 'Data signal of vector_rows', 'fields': {'vector_rows': {'bit_offset': 0, 'bit_width': 32, 'description': 'Data signal of vector_rows', 'access': 'write-only'}}}}, 'device': <pynq.pl_server.device.XlnkDevice object at 0xb54370b0>, 'driver': <class '__main__.AxiLiteNN'>}, 'processing_system7_0': {'parameters': {'C_EN_EMIO_PJTAG': '0', 'C_EN_EMIO_ENET0': '0', 'C_EN_EMIO_ENET1': '0', 'C_EN_EMIO_TRACE': '0', 'C_INCLUDE_TRACE_BUFFER': '0', 'C_TRACE_BUFFER_FIFO_SIZE': '128', 'USE_TRACE_DATA_EDGE_DETECTOR': '0', 'C_TRACE_PIPELINE_WIDTH': '8', 'C_TRACE_BUFFER_CLOCK_DELAY': '12', 'C_EMIO_GPIO_WIDTH': '64', 'C_INCLUDE_ACP_TRANS_CHECK': '0', 'C_USE_DEFAULT_ACP_USER_VAL': '0', 'C_S_AXI_ACP_ARUSER_VAL': '31', 'C_S_AXI_ACP_AWUSER_VAL': '31', 'C_M_AXI_GP0_ID_WIDTH': '12', 'C_M_AXI_GP0_ENABLE_STATIC_REMAP': '0', 'C_M_AXI_GP1_ID_WIDTH': '12', 'C_M_AXI_GP1_ENABLE_STATIC_REMAP': '0', 'C_S_AXI_GP0_ID_WIDTH': '6', 'C_S_AXI_GP1_ID_WIDTH': '6', 'C_S_AXI_ACP_ID_WIDTH': '3', 'C_S_AXI_HP0_ID_WIDTH': '6', 'C_S_AXI_HP0_DATA_WIDTH': '64', 'C_S_AXI_HP1_ID_WIDTH': '6', 'C_S_AXI_HP1_DATA_WIDTH': '64', 'C_S_AXI_HP2_ID_WIDTH': '6', 'C_S_AXI_HP2_DATA_WIDTH': '64', 'C_S_AXI_HP3_ID_WIDTH': '6', 'C_S_AXI_HP3_DATA_WIDTH': '64', 'C_M_AXI_GP0_THREAD_ID_WIDTH': '12', 'C_M_AXI_GP1_THREAD_ID_WIDTH': '12', 'C_NUM_F2P_INTR_INPUTS': '2', 'C_IRQ_F2P_MODE': 'DIRECT', 'C_DQ_WIDTH': '32', 'C_DQS_WIDTH': '4', 'C_DM_WIDTH': '4', 'C_MIO_PRIMITIVE': '54', 'C_TRACE_INTERNAL_WIDTH': '2', 'C_USE_AXI_NONSECURE': '0', 'C_USE_M_AXI_GP0': '1', 'C_USE_M_AXI_GP1': '0', 'C_USE_S_AXI_GP0': '0', 'C_USE_S_AXI_GP1': '0', 'C_USE_S_AXI_HP0': '1', 'C_USE_S_AXI_HP1': '0', 'C_USE_S_AXI_HP2': '0', 'C_USE_S_AXI_HP3': '0', 'C_USE_S_AXI_ACP': '0', 'C_PS7_SI_REV': 'PRODUCTION', 'C_FCLK_CLK0_BUF': 'TRUE', 'C_FCLK_CLK1_BUF': 'FALSE', 'C_FCLK_CLK2_BUF': 'FALSE', 'C_FCLK_CLK3_BUF': 'FALSE', 'C_PACKAGE_NAME': 'clg400', 'C_GP0_EN_MODIFIABLE_TXN': '1', 'C_GP1_EN_MODIFIABLE_TXN': '1', 'PCW_DDR_RAM_BASEADDR': '0x00100000', 'PCW_DDR_RAM_HIGHADDR': '0x1FFFFFFF', 'PCW_UART0_BASEADDR': '0xE0000000', 'PCW_UART0_HIGHADDR': '0xE0000FFF', 'PCW_UART1_BASEADDR': '0xE0001000', 'PCW_UART1_HIGHADDR': '0xE0001FFF', 'PCW_I2C0_BASEADDR': '0xE0004000', 'PCW_I2C0_HIGHADDR': '0xE0004FFF', 'PCW_I2C1_BASEADDR': '0xE0005000', 'PCW_I2C1_HIGHADDR': '0xE0005FFF', 'PCW_SPI0_BASEADDR': '0xE0006000', 'PCW_SPI0_HIGHADDR': '0xE0006FFF', 'PCW_SPI1_BASEADDR': '0xE0007000', 'PCW_SPI1_HIGHADDR': '0xE0007FFF', 'PCW_CAN0_BASEADDR': '0xE0008000', 'PCW_CAN0_HIGHADDR': '0xE0008FFF', 'PCW_CAN1_BASEADDR': '0xE0009000', 'PCW_CAN1_HIGHADDR': '0xE0009FFF', 'PCW_GPIO_BASEADDR': '0xE000A000', 'PCW_GPIO_HIGHADDR': '0xE000AFFF', 'PCW_ENET0_BASEADDR': '0xE000B000', 'PCW_ENET0_HIGHADDR': '0xE000BFFF', 'PCW_ENET1_BASEADDR': '0xE000C000', 'PCW_ENET1_HIGHADDR': '0xE000CFFF', 'PCW_SDIO0_BASEADDR': '0xE0100000', 'PCW_SDIO0_HIGHADDR': '0xE0100FFF', 'PCW_SDIO1_BASEADDR': '0xE0101000', 'PCW_SDIO1_HIGHADDR': '0xE0101FFF', 'PCW_USB0_BASEADDR': '0xE0102000', 'PCW_USB0_HIGHADDR': '0xE0102fff', 'PCW_USB1_BASEADDR': '0xE0103000', 'PCW_USB1_HIGHADDR': '0xE0103fff', 'PCW_TTC0_BASEADDR': '0xE0104000', 'PCW_TTC0_HIGHADDR': '0xE0104fff', 'PCW_TTC1_BASEADDR': '0xE0105000', 'PCW_TTC1_HIGHADDR': '0xE0105fff', 'PCW_FCLK_CLK0_BUF': 'TRUE', 'PCW_FCLK_CLK1_BUF': 'FALSE', 'PCW_FCLK_CLK2_BUF': 'FALSE', 'PCW_FCLK_CLK3_BUF': 'FALSE', 'PCW_UIPARAM_DDR_FREQ_MHZ': '525', 'PCW_UIPARAM_DDR_BANK_ADDR_COUNT': '3', 'PCW_UIPARAM_DDR_ROW_ADDR_COUNT': '15', 'PCW_UIPARAM_DDR_COL_ADDR_COUNT': '10', 'PCW_UIPARAM_DDR_CL': '7', 'PCW_UIPARAM_DDR_CWL': '6', 'PCW_UIPARAM_DDR_T_RCD': '7', 'PCW_UIPARAM_DDR_T_RP': '7', 'PCW_UIPARAM_DDR_T_RC': '48.91', 'PCW_UIPARAM_DDR_T_RAS_MIN': '35.0', 'PCW_UIPARAM_DDR_T_FAW': '40.0', 'PCW_UIPARAM_DDR_AL': '0', 'PCW_UIPARAM_DDR_DQS_TO_CLK_DELAY_0': '-0.051', 'PCW_UIPARAM_DDR_DQS_TO_CLK_DELAY_1': '-0.006', 'PCW_UIPARAM_DDR_DQS_TO_CLK_DELAY_2': '-0.009', 'PCW_UIPARAM_DDR_DQS_TO_CLK_DELAY_3': '-0.033', 'PCW_UIPARAM_DDR_BOARD_DELAY0': '0.279', 'PCW_UIPARAM_DDR_BOARD_DELAY1': '0.260', 'PCW_UIPARAM_DDR_BOARD_DELAY2': '0.085', 'PCW_UIPARAM_DDR_BOARD_DELAY3': '0.092', 'PCW_UIPARAM_DDR_DQS_0_LENGTH_MM': '32.14', 'PCW_UIPARAM_DDR_DQS_1_LENGTH_MM': '31.12', 'PCW_UIPARAM_DDR_DQS_2_LENGTH_MM': '0', 'PCW_UIPARAM_DDR_DQS_3_LENGTH_MM': '0', 'PCW_UIPARAM_DDR_DQ_0_LENGTH_MM': '32.2', 'PCW_UIPARAM_DDR_DQ_1_LENGTH_MM': '31.08', 'PCW_UIPARAM_DDR_DQ_2_LENGTH_MM': '0', 'PCW_UIPARAM_DDR_DQ_3_LENGTH_MM': '0', 'PCW_UIPARAM_DDR_CLOCK_0_LENGTH_MM': '27.95', 'PCW_UIPARAM_DDR_CLOCK_1_LENGTH_MM': '27.95', 'PCW_UIPARAM_DDR_CLOCK_2_LENGTH_MM': '0', 'PCW_UIPARAM_DDR_CLOCK_3_LENGTH_MM': '0', 'PCW_UIPARAM_DDR_DQS_0_PACKAGE_LENGTH': '105.056', 'PCW_UIPARAM_DDR_DQS_1_PACKAGE_LENGTH': '66.904', 'PCW_UIPARAM_DDR_DQS_2_PACKAGE_LENGTH': '89.1715', 'PCW_UIPARAM_DDR_DQS_3_PACKAGE_LENGTH': '113.63', 'PCW_UIPARAM_DDR_DQ_0_PACKAGE_LENGTH': '98.503', 'PCW_UIPARAM_DDR_DQ_1_PACKAGE_LENGTH': '68.5855', 'PCW_UIPARAM_DDR_DQ_2_PACKAGE_LENGTH': '90.295', 'PCW_UIPARAM_DDR_DQ_3_PACKAGE_LENGTH': '103.977', 'PCW_UIPARAM_DDR_CLOCK_0_PACKAGE_LENGTH': '80.4535', 'PCW_UIPARAM_DDR_CLOCK_1_PACKAGE_LENGTH': '80.4535', 'PCW_UIPARAM_DDR_CLOCK_2_PACKAGE_LENGTH': '80.4535', 'PCW_UIPARAM_DDR_CLOCK_3_PACKAGE_LENGTH': '80.4535', 'PCW_UIPARAM_DDR_DQS_0_PROPOGATION_DELAY': '160', 'PCW_UIPARAM_DDR_DQS_1_PROPOGATION_DELAY': '160', 'PCW_UIPARAM_DDR_DQS_2_PROPOGATION_DELAY': '160', 'PCW_UIPARAM_DDR_DQS_3_PROPOGATION_DELAY': '160', 'PCW_UIPARAM_DDR_DQ_0_PROPOGATION_DELAY': '160', 'PCW_UIPARAM_DDR_DQ_1_PROPOGATION_DELAY': '160', 'PCW_UIPARAM_DDR_DQ_2_PROPOGATION_DELAY': '160', 'PCW_UIPARAM_DDR_DQ_3_PROPOGATION_DELAY': '160', 'PCW_UIPARAM_DDR_CLOCK_0_PROPOGATION_DELAY': '160', 'PCW_UIPARAM_DDR_CLOCK_1_PROPOGATION_DELAY': '160', 'PCW_UIPARAM_DDR_CLOCK_2_PROPOGATION_DELAY': '160', 'PCW_UIPARAM_DDR_CLOCK_3_PROPOGATION_DELAY': '160', 'PCW_PACKAGE_DDR_DQS_TO_CLK_DELAY_0': '-0', 'PCW_PACKAGE_DDR_DQS_TO_CLK_DELAY_1': '-0', 'PCW_PACKAGE_DDR_DQS_TO_CLK_DELAY_2': '-0', 'PCW_PACKAGE_DDR_DQS_TO_CLK_DELAY_3': '-0', 'PCW_PACKAGE_DDR_BOARD_DELAY0': '0', 'PCW_PACKAGE_DDR_BOARD_DELAY1': '0', 'PCW_PACKAGE_DDR_BOARD_DELAY2': '0', 'PCW_PACKAGE_DDR_BOARD_DELAY3': '0', 'PCW_CPU_CPU_6X4X_MAX_RANGE': '667', 'PCW_CRYSTAL_PERIPHERAL_FREQMHZ': '50', 'PCW_APU_PERIPHERAL_FREQMHZ': '650', 'PCW_DCI_PERIPHERAL_FREQMHZ': '10.159', 'PCW_QSPI_PERIPHERAL_FREQMHZ': '200', 'PCW_SMC_PERIPHERAL_FREQMHZ': '100', 'PCW_USB0_PERIPHERAL_FREQMHZ': '60', 'PCW_USB1_PERIPHERAL_FREQMHZ': '60', 'PCW_SDIO_PERIPHERAL_FREQMHZ': '50', 'PCW_UART_PERIPHERAL_FREQMHZ': '100', 'PCW_SPI_PERIPHERAL_FREQMHZ': '166.666666', 'PCW_CAN_PERIPHERAL_FREQMHZ': '100', 'PCW_CAN0_PERIPHERAL_FREQMHZ': '-1', 'PCW_CAN1_PERIPHERAL_FREQMHZ': '-1', 'PCW_I2C_PERIPHERAL_FREQMHZ': '25', 'PCW_WDT_PERIPHERAL_FREQMHZ': '133.333333', 'PCW_TTC_PERIPHERAL_FREQMHZ': '50', 'PCW_TTC0_CLK0_PERIPHERAL_FREQMHZ': '133.333333', 'PCW_TTC0_CLK1_PERIPHERAL_FREQMHZ': '133.333333', 'PCW_TTC0_CLK2_PERIPHERAL_FREQMHZ': '133.333333', 'PCW_TTC1_CLK0_PERIPHERAL_FREQMHZ': '133.333333', 'PCW_TTC1_CLK1_PERIPHERAL_FREQMHZ': '133.333333', 'PCW_TTC1_CLK2_PERIPHERAL_FREQMHZ': '133.333333', 'PCW_PCAP_PERIPHERAL_FREQMHZ': '200', 'PCW_TPIU_PERIPHERAL_FREQMHZ': '200', 'PCW_FPGA0_PERIPHERAL_FREQMHZ': '100', 'PCW_FPGA1_PERIPHERAL_FREQMHZ': '50', 'PCW_FPGA2_PERIPHERAL_FREQMHZ': '50', 'PCW_FPGA3_PERIPHERAL_FREQMHZ': '50', 'PCW_ACT_APU_PERIPHERAL_FREQMHZ': '650', 'PCW_UIPARAM_ACT_DDR_FREQ_MHZ': '525', 'PCW_ACT_DCI_PERIPHERAL_FREQMHZ': '10', 'PCW_ACT_QSPI_PERIPHERAL_FREQMHZ': '200', 'PCW_ACT_SMC_PERIPHERAL_FREQMHZ': '10', 'PCW_ACT_ENET0_PERIPHERAL_FREQMHZ': '125', 'PCW_ACT_ENET1_PERIPHERAL_FREQMHZ': '10', 'PCW_ACT_USB0_PERIPHERAL_FREQMHZ': '60', 'PCW_ACT_USB1_PERIPHERAL_FREQMHZ': '60', 'PCW_ACT_SDIO_PERIPHERAL_FREQMHZ': '50', 'PCW_ACT_UART_PERIPHERAL_FREQMHZ': '100', 'PCW_ACT_SPI_PERIPHERAL_FREQMHZ': '10', 'PCW_ACT_CAN_PERIPHERAL_FREQMHZ': '10', 'PCW_ACT_CAN0_PERIPHERAL_FREQMHZ': '23.8095', 'PCW_ACT_CAN1_PERIPHERAL_FREQMHZ': '23.8095', 'PCW_ACT_I2C_PERIPHERAL_FREQMHZ': '50', 'PCW_ACT_WDT_PERIPHERAL_FREQMHZ': '108', 'PCW_ACT_TTC_PERIPHERAL_FREQMHZ': '50', 'PCW_ACT_PCAP_PERIPHERAL_FREQMHZ': '200', 'PCW_ACT_TPIU_PERIPHERAL_FREQMHZ': '200', 'PCW_ACT_FPGA0_PERIPHERAL_FREQMHZ': '100', 'PCW_ACT_FPGA1_PERIPHERAL_FREQMHZ': '10', 'PCW_ACT_FPGA2_PERIPHERAL_FREQMHZ': '10', 'PCW_ACT_FPGA3_PERIPHERAL_FREQMHZ': '10', 'PCW_ACT_TTC0_CLK0_PERIPHERAL_FREQMHZ': '108', 'PCW_ACT_TTC0_CLK1_PERIPHERAL_FREQMHZ': '108', 'PCW_ACT_TTC0_CLK2_PERIPHERAL_FREQMHZ': '108', 'PCW_ACT_TTC1_CLK0_PERIPHERAL_FREQMHZ': '108', 'PCW_ACT_TTC1_CLK1_PERIPHERAL_FREQMHZ': '108', 'PCW_ACT_TTC1_CLK2_PERIPHERAL_FREQMHZ': '108', 'PCW_CLK0_FREQ': '100000000', 'PCW_CLK1_FREQ': '10000000', 'PCW_CLK2_FREQ': '10000000', 'PCW_CLK3_FREQ': '10000000', 'PCW_OVERRIDE_BASIC_CLOCK': '0', 'PCW_CPU_PERIPHERAL_DIVISOR0': '2', 'PCW_DDR_PERIPHERAL_DIVISOR0': '2', 'PCW_SMC_PERIPHERAL_DIVISOR0': '1', 'PCW_QSPI_PERIPHERAL_DIVISOR0': '5', 'PCW_SDIO_PERIPHERAL_DIVISOR0': '20', 'PCW_UART_PERIPHERAL_DIVISOR0': '10', 'PCW_SPI_PERIPHERAL_DIVISOR0': '1', 'PCW_CAN_PERIPHERAL_DIVISOR0': '1', 'PCW_CAN_PERIPHERAL_DIVISOR1': '1', 'PCW_FCLK0_PERIPHERAL_DIVISOR0': '5', 'PCW_FCLK1_PERIPHERAL_DIVISOR0': '1', 'PCW_FCLK2_PERIPHERAL_DIVISOR0': '1', 'PCW_FCLK3_PERIPHERAL_DIVISOR0': '1', 'PCW_FCLK0_PERIPHERAL_DIVISOR1': '2', 'PCW_FCLK1_PERIPHERAL_DIVISOR1': '1', 'PCW_FCLK2_PERIPHERAL_DIVISOR1': '1', 'PCW_FCLK3_PERIPHERAL_DIVISOR1': '1', 'PCW_ENET0_PERIPHERAL_DIVISOR0': '8', 'PCW_ENET1_PERIPHERAL_DIVISOR0': '1', 'PCW_ENET0_PERIPHERAL_DIVISOR1': '1', 'PCW_ENET1_PERIPHERAL_DIVISOR1': '1', 'PCW_TPIU_PERIPHERAL_DIVISOR0': '1', 'PCW_DCI_PERIPHERAL_DIVISOR0': '15', 'PCW_DCI_PERIPHERAL_DIVISOR1': '7', 'PCW_PCAP_PERIPHERAL_DIVISOR0': '5', 'PCW_TTC0_CLK0_PERIPHERAL_DIVISOR0': '1', 'PCW_TTC0_CLK1_PERIPHERAL_DIVISOR0': '1', 'PCW_TTC0_CLK2_PERIPHERAL_DIVISOR0': '1', 'PCW_TTC1_CLK0_PERIPHERAL_DIVISOR0': '1', 'PCW_TTC1_CLK1_PERIPHERAL_DIVISOR0': '1', 'PCW_TTC1_CLK2_PERIPHERAL_DIVISOR0': '1', 'PCW_WDT_PERIPHERAL_DIVISOR0': '1', 'PCW_ARMPLL_CTRL_FBDIV': '26', 'PCW_IOPLL_CTRL_FBDIV': '20', 'PCW_DDRPLL_CTRL_FBDIV': '21', 'PCW_CPU_CPU_PLL_FREQMHZ': '1300', 'PCW_IO_IO_PLL_FREQMHZ': '1000', 'PCW_DDR_DDR_PLL_FREQMHZ': '1050', 'PCW_SMC_PERIPHERAL_VALID': '0', 'PCW_SDIO_PERIPHERAL_VALID': '1', 'PCW_SPI_PERIPHERAL_VALID': '0', 'PCW_CAN_PERIPHERAL_VALID': '0', 'PCW_UART_PERIPHERAL_VALID': '1', 'PCW_EN_EMIO_CAN0': '0', 'PCW_EN_EMIO_CAN1': '0', 'PCW_EN_EMIO_ENET0': '0', 'PCW_EN_EMIO_ENET1': '0', 'PCW_EN_PTP_ENET0': '0', 'PCW_EN_PTP_ENET1': '0', 'PCW_EN_EMIO_GPIO': '0', 'PCW_EN_EMIO_I2C0': '0', 'PCW_EN_EMIO_I2C1': '0', 'PCW_EN_EMIO_PJTAG': '0', 'PCW_EN_EMIO_SDIO0': '0', 'PCW_EN_EMIO_CD_SDIO0': '0', 'PCW_EN_EMIO_WP_SDIO0': '0', 'PCW_EN_EMIO_SDIO1': '0', 'PCW_EN_EMIO_CD_SDIO1': '0', 'PCW_EN_EMIO_WP_SDIO1': '0', 'PCW_EN_EMIO_SPI0': '0', 'PCW_EN_EMIO_SPI1': '0', 'PCW_EN_EMIO_UART0': '0', 'PCW_EN_EMIO_UART1': '0', 'PCW_EN_EMIO_MODEM_UART0': '0', 'PCW_EN_EMIO_MODEM_UART1': '0', 'PCW_EN_EMIO_TTC0': '0', 'PCW_EN_EMIO_TTC1': '0', 'PCW_EN_EMIO_WDT': '0', 'PCW_EN_EMIO_TRACE': '0', 'PCW_USE_AXI_NONSECURE': '0', 'PCW_USE_M_AXI_GP0': '1', 'PCW_USE_M_AXI_GP1': '0', 'PCW_USE_S_AXI_GP0': '0', 'PCW_USE_S_AXI_GP1': '0', 'PCW_USE_S_AXI_ACP': '0', 'PCW_USE_S_AXI_HP0': '1', 'PCW_USE_S_AXI_HP1': '0', 'PCW_USE_S_AXI_HP2': '0', 'PCW_USE_S_AXI_HP3': '0', 'PCW_M_AXI_GP0_FREQMHZ': '10', 'PCW_M_AXI_GP1_FREQMHZ': '10', 'PCW_S_AXI_GP0_FREQMHZ': '10', 'PCW_S_AXI_GP1_FREQMHZ': '10', 'PCW_S_AXI_ACP_FREQMHZ': '10', 'PCW_S_AXI_HP0_FREQMHZ': '10', 'PCW_S_AXI_HP1_FREQMHZ': '10', 'PCW_S_AXI_HP2_FREQMHZ': '10', 'PCW_S_AXI_HP3_FREQMHZ': '10', 'PCW_USE_DMA0': '0', 'PCW_USE_DMA1': '0', 'PCW_USE_DMA2': '0', 'PCW_USE_DMA3': '0', 'PCW_USE_TRACE': '0', 'PCW_TRACE_PIPELINE_WIDTH': '8', 'PCW_INCLUDE_TRACE_BUFFER': '0', 'PCW_TRACE_BUFFER_FIFO_SIZE': '128', 'PCW_USE_TRACE_DATA_EDGE_DETECTOR': '0', 'PCW_TRACE_BUFFER_CLOCK_DELAY': '12', 'PCW_USE_CROSS_TRIGGER': '0', 'PCW_FTM_CTI_IN0': '<Select>', 'PCW_FTM_CTI_IN1': '<Select>', 'PCW_FTM_CTI_IN2': '<Select>', 'PCW_FTM_CTI_IN3': '<Select>', 'PCW_FTM_CTI_OUT0': '<Select>', 'PCW_FTM_CTI_OUT1': '<Select>', 'PCW_FTM_CTI_OUT2': '<Select>', 'PCW_FTM_CTI_OUT3': '<Select>', 'PCW_USE_DEBUG': '0', 'PCW_USE_CR_FABRIC': '1', 'PCW_USE_AXI_FABRIC_IDLE': '0', 'PCW_USE_DDR_BYPASS': '0', 'PCW_USE_FABRIC_INTERRUPT': '1', 'PCW_USE_PROC_EVENT_BUS': '0', 'PCW_USE_EXPANDED_IOP': '0', 'PCW_USE_HIGH_OCM': '0', 'PCW_USE_PS_SLCR_REGISTERS': '0', 'PCW_USE_EXPANDED_PS_SLCR_REGISTERS': '0', 'PCW_USE_CORESIGHT': '0', 'PCW_EN_EMIO_SRAM_INT': '0', 'PCW_GPIO_EMIO_GPIO_WIDTH': '64', 'PCW_GP0_NUM_WRITE_THREADS': '4', 'PCW_GP0_NUM_READ_THREADS': '4', 'PCW_GP1_NUM_WRITE_THREADS': '4', 'PCW_GP1_NUM_READ_THREADS': '4', 'PCW_UART0_BAUD_RATE': '115200', 'PCW_UART1_BAUD_RATE': '115200', 'PCW_EN_4K_TIMER': '0', 'PCW_M_AXI_GP0_ID_WIDTH': '12', 'PCW_M_AXI_GP0_ENABLE_STATIC_REMAP': '0', 'PCW_M_AXI_GP0_SUPPORT_NARROW_BURST': '0', 'PCW_M_AXI_GP0_THREAD_ID_WIDTH': '12', 'PCW_M_AXI_GP1_ID_WIDTH': '12', 'PCW_M_AXI_GP1_ENABLE_STATIC_REMAP': '0', 'PCW_M_AXI_GP1_SUPPORT_NARROW_BURST': '0', 'PCW_M_AXI_GP1_THREAD_ID_WIDTH': '12', 'PCW_S_AXI_GP0_ID_WIDTH': '6', 'PCW_S_AXI_GP1_ID_WIDTH': '6', 'PCW_S_AXI_ACP_ID_WIDTH': '3', 'PCW_INCLUDE_ACP_TRANS_CHECK': '0', 'PCW_USE_DEFAULT_ACP_USER_VAL': '0', 'PCW_S_AXI_ACP_ARUSER_VAL': '31', 'PCW_S_AXI_ACP_AWUSER_VAL': '31', 'PCW_S_AXI_HP0_ID_WIDTH': '6', 'PCW_S_AXI_HP0_DATA_WIDTH': '64', 'PCW_S_AXI_HP1_ID_WIDTH': '6', 'PCW_S_AXI_HP1_DATA_WIDTH': '64', 'PCW_S_AXI_HP2_ID_WIDTH': '6', 'PCW_S_AXI_HP2_DATA_WIDTH': '64', 'PCW_S_AXI_HP3_ID_WIDTH': '6', 'PCW_S_AXI_HP3_DATA_WIDTH': '64', 'PCW_NUM_F2P_INTR_INPUTS': '2', 'PCW_EN_DDR': '1', 'PCW_EN_SMC': '0', 'PCW_EN_QSPI': '1', 'PCW_EN_CAN0': '0', 'PCW_EN_CAN1': '0', 'PCW_EN_ENET0': '1', 'PCW_EN_ENET1': '0', 'PCW_EN_GPIO': '1', 'PCW_EN_I2C0': '0', 'PCW_EN_I2C1': '0', 'PCW_EN_PJTAG': '0', 'PCW_EN_SDIO0': '1', 'PCW_EN_SDIO1': '0', 'PCW_EN_SPI0': '0', 'PCW_EN_SPI1': '0', 'PCW_EN_UART0': '1', 'PCW_EN_UART1': '0', 'PCW_EN_MODEM_UART0': '0', 'PCW_EN_MODEM_UART1': '0', 'PCW_EN_TTC0': '0', 'PCW_EN_TTC1': '0', 'PCW_EN_WDT': '0', 'PCW_EN_TRACE': '0', 'PCW_EN_USB0': '1', 'PCW_EN_USB1': '0', 'PCW_DQ_WIDTH': '32', 'PCW_DQS_WIDTH': '4', 'PCW_DM_WIDTH': '4', 'PCW_MIO_PRIMITIVE': '54', 'PCW_EN_CLK0_PORT': '1', 'PCW_EN_CLK1_PORT': '0', 'PCW_EN_CLK2_PORT': '0', 'PCW_EN_CLK3_PORT': '0', 'PCW_EN_RST0_PORT': '1', 'PCW_EN_RST1_PORT': '0', 'PCW_EN_RST2_PORT': '0', 'PCW_EN_RST3_PORT': '0', 'PCW_EN_CLKTRIG0_PORT': '0', 'PCW_EN_CLKTRIG1_PORT': '0', 'PCW_EN_CLKTRIG2_PORT': '0', 'PCW_EN_CLKTRIG3_PORT': '0', 'PCW_P2F_DMAC_ABORT_INTR': '0', 'PCW_P2F_DMAC0_INTR': '0', 'PCW_P2F_DMAC1_INTR': '0', 'PCW_P2F_DMAC2_INTR': '0', 'PCW_P2F_DMAC3_INTR': '0', 'PCW_P2F_DMAC4_INTR': '0', 'PCW_P2F_DMAC5_INTR': '0', 'PCW_P2F_DMAC6_INTR': '0', 'PCW_P2F_DMAC7_INTR': '0', 'PCW_P2F_SMC_INTR': '0', 'PCW_P2F_QSPI_INTR': '0', 'PCW_P2F_CTI_INTR': '0', 'PCW_P2F_GPIO_INTR': '0', 'PCW_P2F_USB0_INTR': '0', 'PCW_P2F_ENET0_INTR': '0', 'PCW_P2F_SDIO0_INTR': '0', 'PCW_P2F_I2C0_INTR': '0', 'PCW_P2F_SPI0_INTR': '0', 'PCW_P2F_UART0_INTR': '0', 'PCW_P2F_CAN0_INTR': '0', 'PCW_P2F_USB1_INTR': '0', 'PCW_P2F_ENET1_INTR': '0', 'PCW_P2F_SDIO1_INTR': '0', 'PCW_P2F_I2C1_INTR': '0', 'PCW_P2F_SPI1_INTR': '0', 'PCW_P2F_UART1_INTR': '0', 'PCW_P2F_CAN1_INTR': '0', 'PCW_IRQ_F2P_INTR': '0', 'PCW_IRQ_F2P_MODE': 'DIRECT', 'PCW_CORE0_FIQ_INTR': '0', 'PCW_CORE0_IRQ_INTR': '0', 'PCW_CORE1_FIQ_INTR': '0', 'PCW_CORE1_IRQ_INTR': '0', 'PCW_VALUE_SILVERSION': '3', 'PCW_GP0_EN_MODIFIABLE_TXN': '1', 'PCW_GP1_EN_MODIFIABLE_TXN': '1', 'PCW_IMPORT_BOARD_PRESET': 'None', 'PCW_PERIPHERAL_BOARD_PRESET': 'part0', 'PCW_PRESET_BANK0_VOLTAGE': 'LVCMOS 3.3V', 'PCW_PRESET_BANK1_VOLTAGE': 'LVCMOS 1.8V', 'PCW_UIPARAM_DDR_ENABLE': '1', 'PCW_UIPARAM_DDR_ADV_ENABLE': '0', 'PCW_UIPARAM_DDR_MEMORY_TYPE': 'DDR 3', 'PCW_UIPARAM_DDR_ECC': 'Disabled', 'PCW_UIPARAM_DDR_BUS_WIDTH': '16 Bit', 'PCW_UIPARAM_DDR_BL': '8', 'PCW_UIPARAM_DDR_HIGH_TEMP': 'Normal (0-85)', 'PCW_UIPARAM_DDR_PARTNO': 'MT41J256M16 RE-125', 'PCW_UIPARAM_DDR_DRAM_WIDTH': '16 Bits', 'PCW_UIPARAM_DDR_DEVICE_CAPACITY': '4096 MBits', 'PCW_UIPARAM_DDR_SPEED_BIN': 'DDR3_1066F', 'PCW_UIPARAM_DDR_TRAIN_WRITE_LEVEL': '1', 'PCW_UIPARAM_DDR_TRAIN_READ_GATE': '1', 'PCW_UIPARAM_DDR_TRAIN_DATA_EYE': '1', 'PCW_UIPARAM_DDR_CLOCK_STOP_EN': '0', 'PCW_UIPARAM_DDR_USE_INTERNAL_VREF': '0', 'PCW_DDR_PRIORITY_WRITEPORT_0': '<Select>', 'PCW_DDR_PRIORITY_WRITEPORT_1': '<Select>', 'PCW_DDR_PRIORITY_WRITEPORT_2': '<Select>', 'PCW_DDR_PRIORITY_WRITEPORT_3': '<Select>', 'PCW_DDR_PRIORITY_READPORT_0': '<Select>', 'PCW_DDR_PRIORITY_READPORT_1': '<Select>', 'PCW_DDR_PRIORITY_READPORT_2': '<Select>', 'PCW_DDR_PRIORITY_READPORT_3': '<Select>', 'PCW_DDR_PORT0_HPR_ENABLE': '0', 'PCW_DDR_PORT1_HPR_ENABLE': '0', 'PCW_DDR_PORT2_HPR_ENABLE': '0', 'PCW_DDR_PORT3_HPR_ENABLE': '0', 'PCW_DDR_HPRLPR_QUEUE_PARTITION': 'HPR(0)/LPR(32)', 'PCW_DDR_LPR_TO_CRITICAL_PRIORITY_LEVEL': '2', 'PCW_DDR_HPR_TO_CRITICAL_PRIORITY_LEVEL': '15', 'PCW_DDR_WRITE_TO_CRITICAL_PRIORITY_LEVEL': '2', 'PCW_NAND_PERIPHERAL_ENABLE': '0', 'PCW_NAND_NAND_IO': '<Select>', 'PCW_NAND_GRP_D8_ENABLE': '0', 'PCW_NAND_GRP_D8_IO': '<Select>', 'PCW_NOR_PERIPHERAL_ENABLE': '0', 'PCW_NOR_NOR_IO': '<Select>', 'PCW_NOR_GRP_A25_ENABLE': '0', 'PCW_NOR_GRP_A25_IO': '<Select>', 'PCW_NOR_GRP_CS0_ENABLE': '0', 'PCW_NOR_GRP_CS0_IO': '<Select>', 'PCW_NOR_GRP_SRAM_CS0_ENABLE': '0', 'PCW_NOR_GRP_SRAM_CS0_IO': '<Select>', 'PCW_NOR_GRP_CS1_ENABLE': '0', 'PCW_NOR_GRP_CS1_IO': '<Select>', 'PCW_NOR_GRP_SRAM_CS1_ENABLE': '0', 'PCW_NOR_GRP_SRAM_CS1_IO': '<Select>', 'PCW_NOR_GRP_SRAM_INT_ENABLE': '0', 'PCW_NOR_GRP_SRAM_INT_IO': '<Select>', 'PCW_QSPI_PERIPHERAL_ENABLE': '1', 'PCW_QSPI_QSPI_IO': 'MIO 1 .. 6', 'PCW_QSPI_GRP_SINGLE_SS_ENABLE': '1', 'PCW_QSPI_GRP_SINGLE_SS_IO': 'MIO 1 .. 6', 'PCW_QSPI_GRP_SS1_ENABLE': '0', 'PCW_QSPI_GRP_SS1_IO': '<Select>', 'PCW_SINGLE_QSPI_DATA_MODE': 'x4', 'PCW_DUAL_STACK_QSPI_DATA_MODE': '<Select>', 'PCW_DUAL_PARALLEL_QSPI_DATA_MODE': '<Select>', 'PCW_QSPI_GRP_IO1_ENABLE': '0', 'PCW_QSPI_GRP_IO1_IO': '<Select>', 'PCW_QSPI_GRP_FBCLK_ENABLE': '1', 'PCW_QSPI_GRP_FBCLK_IO': 'MIO 8', 'PCW_QSPI_INTERNAL_HIGHADDRESS': '0xFCFFFFFF', 'PCW_ENET0_PERIPHERAL_ENABLE': '1', 'PCW_ENET0_ENET0_IO': 'MIO 16 .. 27', 'PCW_ENET0_GRP_MDIO_ENABLE': '1', 'PCW_ENET0_GRP_MDIO_IO': 'MIO 52 .. 53', 'PCW_ENET_RESET_ENABLE': '1', 'PCW_ENET_RESET_SELECT': 'Share reset pin', 'PCW_ENET0_RESET_ENABLE': '1', 'PCW_ENET0_RESET_IO': 'MIO 9', 'PCW_ENET1_PERIPHERAL_ENABLE': '0', 'PCW_ENET1_ENET1_IO': '<Select>', 'PCW_ENET1_GRP_MDIO_ENABLE': '0', 'PCW_ENET1_GRP_MDIO_IO': '<Select>', 'PCW_ENET1_RESET_ENABLE': '0', 'PCW_ENET1_RESET_IO': '<Select>', 'PCW_SD0_PERIPHERAL_ENABLE': '1', 'PCW_SD0_SD0_IO': 'MIO 40 .. 45', 'PCW_SD0_GRP_CD_ENABLE': '1', 'PCW_SD0_GRP_CD_IO': 'MIO 47', 'PCW_SD0_GRP_WP_ENABLE': '0', 'PCW_SD0_GRP_WP_IO': '<Select>', 'PCW_SD0_GRP_POW_ENABLE': '0', 'PCW_SD0_GRP_POW_IO': '<Select>', 'PCW_SD1_PERIPHERAL_ENABLE': '0', 'PCW_SD1_SD1_IO': '<Select>', 'PCW_SD1_GRP_CD_ENABLE': '0', 'PCW_SD1_GRP_CD_IO': '<Select>', 'PCW_SD1_GRP_WP_ENABLE': '0', 'PCW_SD1_GRP_WP_IO': '<Select>', 'PCW_SD1_GRP_POW_ENABLE': '0', 'PCW_SD1_GRP_POW_IO': '<Select>', 'PCW_UART0_PERIPHERAL_ENABLE': '1', 'PCW_UART0_UART0_IO': 'MIO 14 .. 15', 'PCW_UART0_GRP_FULL_ENABLE': '0', 'PCW_UART0_GRP_FULL_IO': '<Select>', 'PCW_UART1_PERIPHERAL_ENABLE': '0', 'PCW_UART1_UART1_IO': '<Select>', 'PCW_UART1_GRP_FULL_ENABLE': '0', 'PCW_UART1_GRP_FULL_IO': '<Select>', 'PCW_SPI0_PERIPHERAL_ENABLE': '0', 'PCW_SPI0_SPI0_IO': '<Select>', 'PCW_SPI0_GRP_SS0_ENABLE': '0', 'PCW_SPI0_GRP_SS0_IO': '<Select>', 'PCW_SPI0_GRP_SS1_ENABLE': '0', 'PCW_SPI0_GRP_SS1_IO': '<Select>', 'PCW_SPI0_GRP_SS2_ENABLE': '0', 'PCW_SPI0_GRP_SS2_IO': '<Select>', 'PCW_SPI1_PERIPHERAL_ENABLE': '0', 'PCW_SPI1_SPI1_IO': '<Select>', 'PCW_SPI1_GRP_SS0_ENABLE': '0', 'PCW_SPI1_GRP_SS0_IO': '<Select>', 'PCW_SPI1_GRP_SS1_ENABLE': '0', 'PCW_SPI1_GRP_SS1_IO': '<Select>', 'PCW_SPI1_GRP_SS2_ENABLE': '0', 'PCW_SPI1_GRP_SS2_IO': '<Select>', 'PCW_CAN0_PERIPHERAL_ENABLE': '0', 'PCW_CAN0_CAN0_IO': '<Select>', 'PCW_CAN0_GRP_CLK_ENABLE': '0', 'PCW_CAN0_GRP_CLK_IO': '<Select>', 'PCW_CAN1_PERIPHERAL_ENABLE': '0', 'PCW_CAN1_CAN1_IO': '<Select>', 'PCW_CAN1_GRP_CLK_ENABLE': '0', 'PCW_CAN1_GRP_CLK_IO': '<Select>', 'PCW_TRACE_PERIPHERAL_ENABLE': '0', 'PCW_TRACE_TRACE_IO': '<Select>', 'PCW_TRACE_GRP_2BIT_ENABLE': '0', 'PCW_TRACE_GRP_2BIT_IO': '<Select>', 'PCW_TRACE_GRP_4BIT_ENABLE': '0', 'PCW_TRACE_GRP_4BIT_IO': '<Select>', 'PCW_TRACE_GRP_8BIT_ENABLE': '0', 'PCW_TRACE_GRP_8BIT_IO': '<Select>', 'PCW_TRACE_GRP_16BIT_ENABLE': '0', 'PCW_TRACE_GRP_16BIT_IO': '<Select>', 'PCW_TRACE_GRP_32BIT_ENABLE': '0', 'PCW_TRACE_GRP_32BIT_IO': '<Select>', 'PCW_TRACE_INTERNAL_WIDTH': '2', 'PCW_WDT_PERIPHERAL_ENABLE': '0', 'PCW_WDT_WDT_IO': '<Select>', 'PCW_TTC0_PERIPHERAL_ENABLE': '0', 'PCW_TTC0_TTC0_IO': '<Select>', 'PCW_TTC1_PERIPHERAL_ENABLE': '0', 'PCW_TTC1_TTC1_IO': '<Select>', 'PCW_PJTAG_PERIPHERAL_ENABLE': '0', 'PCW_PJTAG_PJTAG_IO': '<Select>', 'PCW_USB0_PERIPHERAL_ENABLE': '1', 'PCW_USB0_USB0_IO': 'MIO 28 .. 39', 'PCW_USB_RESET_ENABLE': '1', 'PCW_USB_RESET_SELECT': 'Share reset pin', 'PCW_USB0_RESET_ENABLE': '1', 'PCW_USB0_RESET_IO': 'MIO 46', 'PCW_USB1_PERIPHERAL_ENABLE': '0', 'PCW_USB1_USB1_IO': '<Select>', 'PCW_USB1_RESET_ENABLE': '0', 'PCW_USB1_RESET_IO': '<Select>', 'PCW_I2C0_PERIPHERAL_ENABLE': '0', 'PCW_I2C0_I2C0_IO': '<Select>', 'PCW_I2C0_GRP_INT_ENABLE': '0', 'PCW_I2C0_GRP_INT_IO': '<Select>', 'PCW_I2C0_RESET_ENABLE': '0', 'PCW_I2C0_RESET_IO': '<Select>', 'PCW_I2C1_PERIPHERAL_ENABLE': '0', 'PCW_I2C1_I2C1_IO': '<Select>', 'PCW_I2C1_GRP_INT_ENABLE': '0', 'PCW_I2C1_GRP_INT_IO': '<Select>', 'PCW_I2C_RESET_ENABLE': '1', 'PCW_I2C_RESET_SELECT': '<Select>', 'PCW_I2C1_RESET_ENABLE': '0', 'PCW_I2C1_RESET_IO': '<Select>', 'PCW_GPIO_PERIPHERAL_ENABLE': '0', 'PCW_GPIO_MIO_GPIO_ENABLE': '1', 'PCW_GPIO_MIO_GPIO_IO': 'MIO', 'PCW_GPIO_EMIO_GPIO_ENABLE': '0', 'PCW_GPIO_EMIO_GPIO_IO': '<Select>', 'PCW_APU_CLK_RATIO_ENABLE': '6:2:1', 'PCW_ENET0_PERIPHERAL_FREQMHZ': '1000 Mbps', 'PCW_ENET1_PERIPHERAL_FREQMHZ': '1000 Mbps', 'PCW_CPU_PERIPHERAL_CLKSRC': 'ARM PLL', 'PCW_DDR_PERIPHERAL_CLKSRC': 'DDR PLL', 'PCW_SMC_PERIPHERAL_CLKSRC': 'IO PLL', 'PCW_QSPI_PERIPHERAL_CLKSRC': 'IO PLL', 'PCW_SDIO_PERIPHERAL_CLKSRC': 'IO PLL', 'PCW_UART_PERIPHERAL_CLKSRC': 'IO PLL', 'PCW_SPI_PERIPHERAL_CLKSRC': 'IO PLL', 'PCW_CAN_PERIPHERAL_CLKSRC': 'IO PLL', 'PCW_FCLK0_PERIPHERAL_CLKSRC': 'IO PLL', 'PCW_FCLK1_PERIPHERAL_CLKSRC': 'IO PLL', 'PCW_FCLK2_PERIPHERAL_CLKSRC': 'IO PLL', 'PCW_FCLK3_PERIPHERAL_CLKSRC': 'IO PLL', 'PCW_ENET0_PERIPHERAL_CLKSRC': 'IO PLL', 'PCW_ENET1_PERIPHERAL_CLKSRC': 'IO PLL', 'PCW_CAN0_PERIPHERAL_CLKSRC': 'External', 'PCW_CAN1_PERIPHERAL_CLKSRC': 'External', 'PCW_TPIU_PERIPHERAL_CLKSRC': 'External', 'PCW_TTC0_CLK0_PERIPHERAL_CLKSRC': 'CPU_1X', 'PCW_TTC0_CLK1_PERIPHERAL_CLKSRC': 'CPU_1X', 'PCW_TTC0_CLK2_PERIPHERAL_CLKSRC': 'CPU_1X', 'PCW_TTC1_CLK0_PERIPHERAL_CLKSRC': 'CPU_1X', 'PCW_TTC1_CLK1_PERIPHERAL_CLKSRC': 'CPU_1X', 'PCW_TTC1_CLK2_PERIPHERAL_CLKSRC': 'CPU_1X', 'PCW_WDT_PERIPHERAL_CLKSRC': 'CPU_1X', 'PCW_DCI_PERIPHERAL_CLKSRC': 'DDR PLL', 'PCW_PCAP_PERIPHERAL_CLKSRC': 'IO PLL', 'PCW_USB_RESET_POLARITY': 'Active Low', 'PCW_ENET_RESET_POLARITY': 'Active Low', 'PCW_I2C_RESET_POLARITY': 'Active Low', 'PCW_MIO_0_PULLUP': 'enabled', 'PCW_MIO_0_IOTYPE': 'LVCMOS 3.3V', 'PCW_MIO_0_DIRECTION': 'inout', 'PCW_MIO_0_SLEW': 'slow', 'PCW_MIO_1_PULLUP': 'enabled', 'PCW_MIO_1_IOTYPE': 'LVCMOS 3.3V', 'PCW_MIO_1_DIRECTION': 'out', 'PCW_MIO_1_SLEW': 'slow', 'PCW_MIO_2_PULLUP': 'disabled', 'PCW_MIO_2_IOTYPE': 'LVCMOS 3.3V', 'PCW_MIO_2_DIRECTION': 'inout', 'PCW_MIO_2_SLEW': 'slow', 'PCW_MIO_3_PULLUP': 'disabled', 'PCW_MIO_3_IOTYPE': 'LVCMOS 3.3V', 'PCW_MIO_3_DIRECTION': 'inout', 'PCW_MIO_3_SLEW': 'slow', 'PCW_MIO_4_PULLUP': 'disabled', 'PCW_MIO_4_IOTYPE': 'LVCMOS 3.3V', 'PCW_MIO_4_DIRECTION': 'inout', 'PCW_MIO_4_SLEW': 'slow', 'PCW_MIO_5_PULLUP': 'disabled', 'PCW_MIO_5_IOTYPE': 'LVCMOS 3.3V', 'PCW_MIO_5_DIRECTION': 'inout', 'PCW_MIO_5_SLEW': 'slow', 'PCW_MIO_6_PULLUP': 'disabled', 'PCW_MIO_6_IOTYPE': 'LVCMOS 3.3V', 'PCW_MIO_6_DIRECTION': 'out', 'PCW_MIO_6_SLEW': 'slow', 'PCW_MIO_7_PULLUP': 'disabled', 'PCW_MIO_7_IOTYPE': 'LVCMOS 3.3V', 'PCW_MIO_7_DIRECTION': 'out', 'PCW_MIO_7_SLEW': 'slow', 'PCW_MIO_8_PULLUP': 'disabled', 'PCW_MIO_8_IOTYPE': 'LVCMOS 3.3V', 'PCW_MIO_8_DIRECTION': 'out', 'PCW_MIO_8_SLEW': 'slow', 'PCW_MIO_9_PULLUP': 'enabled', 'PCW_MIO_9_IOTYPE': 'LVCMOS 3.3V', 'PCW_MIO_9_DIRECTION': 'out', 'PCW_MIO_9_SLEW': 'slow', 'PCW_MIO_10_PULLUP': 'enabled', 'PCW_MIO_10_IOTYPE': 'LVCMOS 3.3V', 'PCW_MIO_10_DIRECTION': 'inout', 'PCW_MIO_10_SLEW': 'slow', 'PCW_MIO_11_PULLUP': 'enabled', 'PCW_MIO_11_IOTYPE': 'LVCMOS 3.3V', 'PCW_MIO_11_DIRECTION': 'inout', 'PCW_MIO_11_SLEW': 'slow', 'PCW_MIO_12_PULLUP': 'enabled', 'PCW_MIO_12_IOTYPE': 'LVCMOS 3.3V', 'PCW_MIO_12_DIRECTION': 'inout', 'PCW_MIO_12_SLEW': 'slow', 'PCW_MIO_13_PULLUP': 'enabled', 'PCW_MIO_13_IOTYPE': 'LVCMOS 3.3V', 'PCW_MIO_13_DIRECTION': 'inout', 'PCW_MIO_13_SLEW': 'slow', 'PCW_MIO_14_PULLUP': 'enabled', 'PCW_MIO_14_IOTYPE': 'LVCMOS 3.3V', 'PCW_MIO_14_DIRECTION': 'in', 'PCW_MIO_14_SLEW': 'slow', 'PCW_MIO_15_PULLUP': 'enabled', 'PCW_MIO_15_IOTYPE': 'LVCMOS 3.3V', 'PCW_MIO_15_DIRECTION': 'out', 'PCW_MIO_15_SLEW': 'slow', 'PCW_MIO_16_PULLUP': 'enabled', 'PCW_MIO_16_IOTYPE': 'LVCMOS 1.8V', 'PCW_MIO_16_DIRECTION': 'out', 'PCW_MIO_16_SLEW': 'slow', 'PCW_MIO_17_PULLUP': 'enabled', 'PCW_MIO_17_IOTYPE': 'LVCMOS 1.8V', 'PCW_MIO_17_DIRECTION': 'out', 'PCW_MIO_17_SLEW': 'slow', 'PCW_MIO_18_PULLUP': 'enabled', 'PCW_MIO_18_IOTYPE': 'LVCMOS 1.8V', 'PCW_MIO_18_DIRECTION': 'out', 'PCW_MIO_18_SLEW': 'slow', 'PCW_MIO_19_PULLUP': 'enabled', 'PCW_MIO_19_IOTYPE': 'LVCMOS 1.8V', 'PCW_MIO_19_DIRECTION': 'out', 'PCW_MIO_19_SLEW': 'slow', 'PCW_MIO_20_PULLUP': 'enabled', 'PCW_MIO_20_IOTYPE': 'LVCMOS 1.8V', 'PCW_MIO_20_DIRECTION': 'out', 'PCW_MIO_20_SLEW': 'slow', 'PCW_MIO_21_PULLUP': 'enabled', 'PCW_MIO_21_IOTYPE': 'LVCMOS 1.8V', 'PCW_MIO_21_DIRECTION': 'out', 'PCW_MIO_21_SLEW': 'slow', 'PCW_MIO_22_PULLUP': 'enabled', 'PCW_MIO_22_IOTYPE': 'LVCMOS 1.8V', 'PCW_MIO_22_DIRECTION': 'in', 'PCW_MIO_22_SLEW': 'slow', 'PCW_MIO_23_PULLUP': 'enabled', 'PCW_MIO_23_IOTYPE': 'LVCMOS 1.8V', 'PCW_MIO_23_DIRECTION': 'in', 'PCW_MIO_23_SLEW': 'slow', 'PCW_MIO_24_PULLUP': 'enabled', 'PCW_MIO_24_IOTYPE': 'LVCMOS 1.8V', 'PCW_MIO_24_DIRECTION': 'in', 'PCW_MIO_24_SLEW': 'slow', 'PCW_MIO_25_PULLUP': 'enabled', 'PCW_MIO_25_IOTYPE': 'LVCMOS 1.8V', 'PCW_MIO_25_DIRECTION': 'in', 'PCW_MIO_25_SLEW': 'slow', 'PCW_MIO_26_PULLUP': 'enabled', 'PCW_MIO_26_IOTYPE': 'LVCMOS 1.8V', 'PCW_MIO_26_DIRECTION': 'in', 'PCW_MIO_26_SLEW': 'slow', 'PCW_MIO_27_PULLUP': 'enabled', 'PCW_MIO_27_IOTYPE': 'LVCMOS 1.8V', 'PCW_MIO_27_DIRECTION': 'in', 'PCW_MIO_27_SLEW': 'slow', 'PCW_MIO_28_PULLUP': 'enabled', 'PCW_MIO_28_IOTYPE': 'LVCMOS 1.8V', 'PCW_MIO_28_DIRECTION': 'inout', 'PCW_MIO_28_SLEW': 'slow', 'PCW_MIO_29_PULLUP': 'enabled', 'PCW_MIO_29_IOTYPE': 'LVCMOS 1.8V', 'PCW_MIO_29_DIRECTION': 'in', 'PCW_MIO_29_SLEW': 'slow', 'PCW_MIO_30_PULLUP': 'enabled', 'PCW_MIO_30_IOTYPE': 'LVCMOS 1.8V', 'PCW_MIO_30_DIRECTION': 'out', 'PCW_MIO_30_SLEW': 'slow', 'PCW_MIO_31_PULLUP': 'enabled', 'PCW_MIO_31_IOTYPE': 'LVCMOS 1.8V', 'PCW_MIO_31_DIRECTION': 'in', 'PCW_MIO_31_SLEW': 'slow', 'PCW_MIO_32_PULLUP': 'enabled', 'PCW_MIO_32_IOTYPE': 'LVCMOS 1.8V', 'PCW_MIO_32_DIRECTION': 'inout', 'PCW_MIO_32_SLEW': 'slow', 'PCW_MIO_33_PULLUP': 'enabled', 'PCW_MIO_33_IOTYPE': 'LVCMOS 1.8V', 'PCW_MIO_33_DIRECTION': 'inout', 'PCW_MIO_33_SLEW': 'slow', 'PCW_MIO_34_PULLUP': 'enabled', 'PCW_MIO_34_IOTYPE': 'LVCMOS 1.8V', 'PCW_MIO_34_DIRECTION': 'inout', 'PCW_MIO_34_SLEW': 'slow', 'PCW_MIO_35_PULLUP': 'enabled', 'PCW_MIO_35_IOTYPE': 'LVCMOS 1.8V', 'PCW_MIO_35_DIRECTION': 'inout', 'PCW_MIO_35_SLEW': 'slow', 'PCW_MIO_36_PULLUP': 'enabled', 'PCW_MIO_36_IOTYPE': 'LVCMOS 1.8V', 'PCW_MIO_36_DIRECTION': 'in', 'PCW_MIO_36_SLEW': 'slow', 'PCW_MIO_37_PULLUP': 'enabled', 'PCW_MIO_37_IOTYPE': 'LVCMOS 1.8V', 'PCW_MIO_37_DIRECTION': 'inout', 'PCW_MIO_37_SLEW': 'slow', 'PCW_MIO_38_PULLUP': 'enabled', 'PCW_MIO_38_IOTYPE': 'LVCMOS 1.8V', 'PCW_MIO_38_DIRECTION': 'inout', 'PCW_MIO_38_SLEW': 'slow', 'PCW_MIO_39_PULLUP': 'enabled', 'PCW_MIO_39_IOTYPE': 'LVCMOS 1.8V', 'PCW_MIO_39_DIRECTION': 'inout', 'PCW_MIO_39_SLEW': 'slow', 'PCW_MIO_40_PULLUP': 'enabled', 'PCW_MIO_40_IOTYPE': 'LVCMOS 1.8V', 'PCW_MIO_40_DIRECTION': 'inout', 'PCW_MIO_40_SLEW': 'slow', 'PCW_MIO_41_PULLUP': 'enabled', 'PCW_MIO_41_IOTYPE': 'LVCMOS 1.8V', 'PCW_MIO_41_DIRECTION': 'inout', 'PCW_MIO_41_SLEW': 'slow', 'PCW_MIO_42_PULLUP': 'enabled', 'PCW_MIO_42_IOTYPE': 'LVCMOS 1.8V', 'PCW_MIO_42_DIRECTION': 'inout', 'PCW_MIO_42_SLEW': 'slow', 'PCW_MIO_43_PULLUP': 'enabled', 'PCW_MIO_43_IOTYPE': 'LVCMOS 1.8V', 'PCW_MIO_43_DIRECTION': 'inout', 'PCW_MIO_43_SLEW': 'slow', 'PCW_MIO_44_PULLUP': 'enabled', 'PCW_MIO_44_IOTYPE': 'LVCMOS 1.8V', 'PCW_MIO_44_DIRECTION': 'inout', 'PCW_MIO_44_SLEW': 'slow', 'PCW_MIO_45_PULLUP': 'enabled', 'PCW_MIO_45_IOTYPE': 'LVCMOS 1.8V', 'PCW_MIO_45_DIRECTION': 'inout', 'PCW_MIO_45_SLEW': 'slow', 'PCW_MIO_46_PULLUP': 'enabled', 'PCW_MIO_46_IOTYPE': 'LVCMOS 1.8V', 'PCW_MIO_46_DIRECTION': 'out', 'PCW_MIO_46_SLEW': 'slow', 'PCW_MIO_47_PULLUP': 'enabled', 'PCW_MIO_47_IOTYPE': 'LVCMOS 1.8V', 'PCW_MIO_47_DIRECTION': 'in', 'PCW_MIO_47_SLEW': 'slow', 'PCW_MIO_48_PULLUP': 'enabled', 'PCW_MIO_48_IOTYPE': 'LVCMOS 1.8V', 'PCW_MIO_48_DIRECTION': 'inout', 'PCW_MIO_48_SLEW': 'slow', 'PCW_MIO_49_PULLUP': 'enabled', 'PCW_MIO_49_IOTYPE': 'LVCMOS 1.8V', 'PCW_MIO_49_DIRECTION': 'inout', 'PCW_MIO_49_SLEW': 'slow', 'PCW_MIO_50_PULLUP': 'enabled', 'PCW_MIO_50_IOTYPE': 'LVCMOS 1.8V', 'PCW_MIO_50_DIRECTION': 'inout', 'PCW_MIO_50_SLEW': 'slow', 'PCW_MIO_51_PULLUP': 'enabled', 'PCW_MIO_51_IOTYPE': 'LVCMOS 1.8V', 'PCW_MIO_51_DIRECTION': 'inout', 'PCW_MIO_51_SLEW': 'slow', 'PCW_MIO_52_PULLUP': 'enabled', 'PCW_MIO_52_IOTYPE': 'LVCMOS 1.8V', 'PCW_MIO_52_DIRECTION': 'out', 'PCW_MIO_52_SLEW': 'slow', 'PCW_MIO_53_PULLUP': 'enabled', 'PCW_MIO_53_IOTYPE': 'LVCMOS 1.8V', 'PCW_MIO_53_DIRECTION': 'inout', 'PCW_MIO_53_SLEW': 'slow', 'preset': 'None', 'PCW_UIPARAM_GENERATE_SUMMARY': 'NA', 'PCW_MIO_TREE_PERIPHERALS': 'GPIO#Quad SPI Flash#Quad SPI Flash#Quad SPI Flash#Quad SPI Flash#Quad SPI Flash#Quad SPI Flash#GPIO#Quad SPI Flash#ENET Reset#GPIO#GPIO#GPIO#GPIO#UART 0#UART 0#Enet 0#Enet 0#Enet 0#Enet 0#Enet 0#Enet 0#Enet 0#Enet 0#Enet 0#Enet 0#Enet 0#Enet 0#USB 0#USB 0#USB 0#USB 0#USB 0#USB 0#USB 0#USB 0#USB 0#USB 0#USB 0#USB 0#SD 0#SD 0#SD 0#SD 0#SD 0#SD 0#USB Reset#SD 0#GPIO#GPIO#GPIO#GPIO#Enet 0#Enet 0', 'PCW_MIO_TREE_SIGNALS': 'gpio[0]#qspi0_ss_b#qspi0_io[0]#qspi0_io[1]#qspi0_io[2]#qspi0_io[3]/HOLD_B#qspi0_sclk#gpio[7]#qspi_fbclk#reset#gpio[10]#gpio[11]#gpio[12]#gpio[13]#rx#tx#tx_clk#txd[0]#txd[1]#txd[2]#txd[3]#tx_ctl#rx_clk#rxd[0]#rxd[1]#rxd[2]#rxd[3]#rx_ctl#data[4]#dir#stp#nxt#data[0]#data[1]#data[2]#data[3]#clk#data[5]#data[6]#data[7]#clk#cmd#data[0]#data[1]#data[2]#data[3]#reset#cd#gpio[48]#gpio[49]#gpio[50]#gpio[51]#mdc#mdio', 'PCW_PS7_SI_REV': 'PRODUCTION', 'PCW_FPGA_FCLK0_ENABLE': '1', 'PCW_FPGA_FCLK1_ENABLE': '0', 'PCW_FPGA_FCLK2_ENABLE': '0', 'PCW_FPGA_FCLK3_ENABLE': '0', 'PCW_NOR_SRAM_CS0_T_TR': '1', 'PCW_NOR_SRAM_CS0_T_PC': '1', 'PCW_NOR_SRAM_CS0_T_WP': '1', 'PCW_NOR_SRAM_CS0_T_CEOE': '1', 'PCW_NOR_SRAM_CS0_T_WC': '11', 'PCW_NOR_SRAM_CS0_T_RC': '11', 'PCW_NOR_SRAM_CS0_WE_TIME': '0', 'PCW_NOR_SRAM_CS1_T_TR': '1', 'PCW_NOR_SRAM_CS1_T_PC': '1', 'PCW_NOR_SRAM_CS1_T_WP': '1', 'PCW_NOR_SRAM_CS1_T_CEOE': '1', 'PCW_NOR_SRAM_CS1_T_WC': '11', 'PCW_NOR_SRAM_CS1_T_RC': '11', 'PCW_NOR_SRAM_CS1_WE_TIME': '0', 'PCW_NOR_CS0_T_TR': '1', 'PCW_NOR_CS0_T_PC': '1', 'PCW_NOR_CS0_T_WP': '1', 'PCW_NOR_CS0_T_CEOE': '1', 'PCW_NOR_CS0_T_WC': '11', 'PCW_NOR_CS0_T_RC': '11', 'PCW_NOR_CS0_WE_TIME': '0', 'PCW_NOR_CS1_T_TR': '1', 'PCW_NOR_CS1_T_PC': '1', 'PCW_NOR_CS1_T_WP': '1', 'PCW_NOR_CS1_T_CEOE': '1', 'PCW_NOR_CS1_T_WC': '11', 'PCW_NOR_CS1_T_RC': '11', 'PCW_NOR_CS1_WE_TIME': '0', 'PCW_NAND_CYCLES_T_RR': '1', 'PCW_NAND_CYCLES_T_AR': '1', 'PCW_NAND_CYCLES_T_CLR': '1', 'PCW_NAND_CYCLES_T_WP': '1', 'PCW_NAND_CYCLES_T_REA': '1', 'PCW_NAND_CYCLES_T_WC': '11', 'PCW_NAND_CYCLES_T_RC': '11', 'PCW_SMC_CYCLE_T0': 'NA', 'PCW_SMC_CYCLE_T1': 'NA', 'PCW_SMC_CYCLE_T2': 'NA', 'PCW_SMC_CYCLE_T3': 'NA', 'PCW_SMC_CYCLE_T4': 'NA', 'PCW_SMC_CYCLE_T5': 'NA', 'PCW_SMC_CYCLE_T6': 'NA', 'PCW_PACKAGE_NAME': 'clg400', 'PCW_PLL_BYPASSMODE_ENABLE': '0', 'Component_Name': 'design_1_processing_system7_0_0', 'EDK_IPTYPE': 'PERIPHERAL', 'C_BASEADDR': '0x00000000', 'C_HIGHADDR': '0x1FFFFFFF'}, 'type': 'xilinx.com:ip:processing_system7:5.5', 'device': <pynq.pl_server.device.XlnkDevice object at 0xb54370b0>, 'driver': <class 'pynq.overlay.DefaultIP'>}}\n"
     ]
    }
   ],
   "source": [
    "if overlay.is_loaded():\n",
    "    print(overlay.ip_dict)"
   ]
  },
  {
   "cell_type": "markdown",
   "metadata": {},
   "source": [
    "## Create objects from elements in the overlay dictionary\n",
    "Instantiate NN class. Check if the driver is working by looking at the `help` output; the first lines should be like `class NN(pynq.overlay.DefaultHierarchy)`"
   ]
  },
  {
   "cell_type": "code",
   "execution_count": 5,
   "metadata": {
    "scrolled": false
   },
   "outputs": [
    {
     "name": "stdout",
     "output_type": "stream",
     "text": [
      "Help on NN in module __main__ object:\n",
      "\n",
      "class NN(pynq.overlay.DefaultHierarchy)\n",
      " |  Hierarchy driver related to the hierarchy composed by the AXI DMA module + the HLS accelerator.\n",
      " |  It uses the AxiLiteNN class to write the number of rows of the input matrix to the accelerator.\n",
      " |  \n",
      " |  Method resolution order:\n",
      " |      NN\n",
      " |      pynq.overlay.DefaultHierarchy\n",
      " |      pynq.overlay._IPMap\n",
      " |      builtins.object\n",
      " |  \n",
      " |  Methods defined here:\n",
      " |  \n",
      " |  __init__(self, description)\n",
      " |      Create a new _IPMap based on a hierarchical description.\n",
      " |  \n",
      " |  predict(self, X, y_shape, dtype=<class 'numpy.float32'>, profile=False, encode=None, decode=None)\n",
      " |      Obtain the predictions of the NN implemented in the FPGA.\n",
      " |      Parameters:\n",
      " |      - X : the input vector. Should be numpy ndarray.\n",
      " |      - y_shape : the shape of the output vector. Needed to the accelerator to set the TLAST bit properly and\n",
      " |                  for sizing the output vector shape.\n",
      " |      - dtype : the data type of the elements of the input/output vectors. \n",
      " |                Note: it should be set depending on the interface of the accelerator; if it uses 'float' \n",
      " |                types for the 'data' AXI-Stream field, 'np.float32' dtype is the correct one to use. \n",
      " |                Instead if it uses 'ap_fixed<A,B>', 'np.intA' is the correct one to use (note that A cannot\n",
      " |                any integer value, but it can assume {..., 8, 16, 32, ...} values. Check `numpy` \n",
      " |                doc for more info).\n",
      " |                In this case the encoding/decoding has to be computed by the PS. For example for \n",
      " |                'ap_fixed<16,6>' type the following 2 functions are the correct one to use for encode/decode \n",
      " |                'float' -> 'ap_fixed<16,6>':\n",
      " |                \n",
      " |                ```\n",
      " |                  def encode(xi):\n",
      " |                      return np.int16(round(xi * 2**10)) # note 2**10 = 2**(A-B)\n",
      " |      \n",
      " |                  def decode(yi):\n",
      " |                      return yi * 2**-10\n",
      " |      \n",
      " |                  encode_v = np.vectorize(encode) # to apply them element-wise\n",
      " |                  decode_v = np.vectorize(decode)\n",
      " |                ```\n",
      " |      - profile : boolean. Set it to `True` to print the performance of the algorithm in term of `inference/s`.\n",
      " |      - encode/decode: function pointers. See `dtype` section for more information.\n",
      " |      - return: an output array based on `np.ndarray` with a shape equal to `y_shape` and a `dtype` equal to\n",
      " |                the namesake parameter.\n",
      " |  \n",
      " |  ----------------------------------------------------------------------\n",
      " |  Static methods defined here:\n",
      " |  \n",
      " |  checkhierarchy(description)\n",
      " |      Function to check if the driver matches a particular hierarchy\n",
      " |      \n",
      " |      This function should be redefined in derived classes to return True\n",
      " |      if the description matches what is expected by the driver. The default\n",
      " |      implementation always returns False so that drivers that forget don't\n",
      " |      get loaded for hierarchies they don't expect.\n",
      " |  \n",
      " |  ----------------------------------------------------------------------\n",
      " |  Methods inherited from pynq.overlay.DefaultHierarchy:\n",
      " |  \n",
      " |  download(self, bitfile_name, dtbo)\n",
      " |      Function to download a partial bitstream for the hierarchy block.\n",
      " |      \n",
      " |      Since it is hard to know which hierarchy is to be reconfigured by only\n",
      " |      looking at the metadata, we assume users will tell this information.\n",
      " |      Thus, this function should be called only when users are sure about\n",
      " |      the hierarchy name of the partial region.\n",
      " |      \n",
      " |      Parameters\n",
      " |      ----------\n",
      " |      bitfile_name : str\n",
      " |          The name of the partial bitstream.\n",
      " |      dtbo : str\n",
      " |          The relative or absolute path of the partial dtbo file.\n",
      " |  \n",
      " |  ----------------------------------------------------------------------\n",
      " |  Methods inherited from pynq.overlay._IPMap:\n",
      " |  \n",
      " |  __dir__(self)\n",
      " |      __dir__() -> list\n",
      " |      default dir() implementation\n",
      " |  \n",
      " |  __getattr__(self, key)\n",
      " |  \n",
      " |  ----------------------------------------------------------------------\n",
      " |  Data descriptors inherited from pynq.overlay._IPMap:\n",
      " |  \n",
      " |  __dict__\n",
      " |      dictionary for instance variables (if defined)\n",
      " |  \n",
      " |  __weakref__\n",
      " |      list of weak references to the object (if defined)\n",
      "\n",
      "Help on AxiLiteNN in module __main__ object:\n",
      "\n",
      "class AxiLiteNN(pynq.overlay.DefaultIP)\n",
      " |  Basic driver to read/write 'vector_rows' register of the accelerator using AxiLite protocol.\n",
      " |  The address for reading/writing is taken from the .h driver file produced by vivado_hls.\n",
      " |  \n",
      " |  Method resolution order:\n",
      " |      AxiLiteNN\n",
      " |      pynq.overlay.DefaultIP\n",
      " |      builtins.object\n",
      " |  \n",
      " |  Methods defined here:\n",
      " |  \n",
      " |  __init__(self, description)\n",
      " |      Initialize self.  See help(type(self)) for accurate signature.\n",
      " |  \n",
      " |  ----------------------------------------------------------------------\n",
      " |  Data descriptors defined here:\n",
      " |  \n",
      " |  vector_rows\n",
      " |  \n",
      " |  ----------------------------------------------------------------------\n",
      " |  Data and other attributes defined here:\n",
      " |  \n",
      " |  bindto = ['CERN:hls4ml:myproject_axi:1.0']\n",
      " |  \n",
      " |  ----------------------------------------------------------------------\n",
      " |  Methods inherited from pynq.overlay.DefaultIP:\n",
      " |  \n",
      " |  call(self, *args, **kwargs)\n",
      " |  \n",
      " |  read(self, offset=0)\n",
      " |      Read from the MMIO device\n",
      " |      \n",
      " |      Parameters\n",
      " |      ----------\n",
      " |      offset : int\n",
      " |          Address to read\n",
      " |  \n",
      " |  start(self, *args, **kwargs)\n",
      " |      Start the accelerator\n",
      " |      \n",
      " |      This function will configure the accelerator with the provided\n",
      " |      arguments and start the accelerator. Use the `wait` function to\n",
      " |      determine when execution has finished. Note that buffers should be\n",
      " |      flushed prior to starting the accelerator and any result buffers\n",
      " |      will need to be invalidated afterwards.\n",
      " |      \n",
      " |      For details on the function's signature use the `signature` property.\n",
      " |      The type annotations provide the C types that the accelerator\n",
      " |      operates on. Any pointer types should be passed as `ContiguousArray`\n",
      " |      objects created from the `pynq.Xlnk` class. Scalars should be passed\n",
      " |      as a compatible python type as used by the `struct` library.\n",
      " |  \n",
      " |  start_ert(self, *args, waitfor=(), **kwargs)\n",
      " |      Start the accelerator using the ERT scheduler\n",
      " |      \n",
      " |      This function will use the embedded scheduler to call the accelerator\n",
      " |      with the provided arguments - see the documentation for ``start`` for\n",
      " |      more details. An optional ``waitfor`` parameter can be used to\n",
      " |      schedule dependent executions without using the CPU.\n",
      " |      \n",
      " |      Parameters\n",
      " |      ----------\n",
      " |      waitfor : [WaitHandle]\n",
      " |          A list of wait handles returned by other calls to ``start_ert``\n",
      " |          which must complete before this execution starts\n",
      " |      \n",
      " |      Returns\n",
      " |      -------\n",
      " |      WaitHandle :\n",
      " |          Object with a ``wait`` call that will return when the execution\n",
      " |          completes\n",
      " |  \n",
      " |  start_none(self, *args, **kwargs)\n",
      " |  \n",
      " |  start_sw(self, *args, ap_ctrl=1, waitfor=None, **kwargs)\n",
      " |      Start the accelerator\n",
      " |      \n",
      " |      This function will configure the accelerator with the provided\n",
      " |      arguments and start the accelerator. Use the `wait` function to\n",
      " |      determine when execution has finished. Note that buffers should be\n",
      " |      flushed prior to starting the accelerator and any result buffers\n",
      " |      will need to be invalidated afterwards.\n",
      " |      \n",
      " |      For details on the function's signature use the `signature` property.\n",
      " |      The type annotations provide the C types that the accelerator\n",
      " |      operates on. Any pointer types should be passed as `ContiguousArray`\n",
      " |      objects created from the `pynq.Xlnk` class. Scalars should be passed\n",
      " |      as a compatible python type as used by the `struct` library.\n",
      " |  \n",
      " |  write(self, offset, value)\n",
      " |      Write to the MMIO device\n",
      " |      \n",
      " |      Parameters\n",
      " |      ----------\n",
      " |      offset : int\n",
      " |          Address to write to\n",
      " |      value : int or bytes\n",
      " |          Data to write\n",
      " |  \n",
      " |  ----------------------------------------------------------------------\n",
      " |  Data descriptors inherited from pynq.overlay.DefaultIP:\n",
      " |  \n",
      " |  __dict__\n",
      " |      dictionary for instance variables (if defined)\n",
      " |  \n",
      " |  __weakref__\n",
      " |      list of weak references to the object (if defined)\n",
      " |  \n",
      " |  register_map\n",
      " |  \n",
      " |  signature\n",
      " |      The signature of the `call` method\n",
      "\n"
     ]
    }
   ],
   "source": [
    "import pynq.lib.dma\n",
    "\n",
    "nn = overlay.hier_0\n",
    "help(nn)\n",
    "help(nn.myproject_axi_0)"
   ]
  },
  {
   "cell_type": "markdown",
   "metadata": {},
   "source": [
    "## Prepare input/output data\n",
    "- `y_hls.npy` contains the output generated by the C simulation of the NN (that in principle should be equal to the predictions generated by the IP running on the FPGA).\n",
    "- `X_test.npy` file represents NN the input data."
   ]
  },
  {
   "cell_type": "code",
   "execution_count": 6,
   "metadata": {
    "scrolled": false
   },
   "outputs": [],
   "source": [
    "y_hls = np.load('./y_hls.npy').astype(np.float32)\n",
    "X = np.load('./X_test.npy').astype(np.float32)"
   ]
  },
  {
   "cell_type": "markdown",
   "metadata": {},
   "source": [
    "## Let's perform a prediction on the PL!"
   ]
  },
  {
   "cell_type": "code",
   "execution_count": 7,
   "metadata": {},
   "outputs": [
    {
     "name": "stdout",
     "output_type": "stream",
     "text": [
      "Classified 166000 samples in 0.8894449999999999 seconds (186633.23758073855 inferences / s)\n",
      "[[ 0.45214844  0.31054688  0.03027344  0.14648438  0.15625   ]\n",
      " [ 0.07128906  0.68066406  0.01367188  0.15136719  0.09765625]\n",
      " [ 0.11425781  0.05664062  0.84570312  0.          0.00585938]\n",
      " ..., \n",
      " [ 0.01757812  0.06640625  0.07128906  0.82128906  0.0625    ]\n",
      " [ 0.03710938  0.109375    0.86425781  0.          0.00585938]\n",
      " [ 0.0625      0.05566406  0.1171875   0.67871094  0.0859375 ]]\n"
     ]
    }
   ],
   "source": [
    "y_float, dts_float, rate_float = nn.predict(X, y_hls.shape, profile=True)\n",
    "print(y_float)"
   ]
  },
  {
   "cell_type": "markdown",
   "metadata": {},
   "source": [
    "## Output check\n",
    "Check if the data generated by the NN IP are the same as the one obtained via C simulation."
   ]
  },
  {
   "cell_type": "code",
   "execution_count": 8,
   "metadata": {
    "scrolled": false
   },
   "outputs": [
    {
     "name": "stdout",
     "output_type": "stream",
     "text": [
      "Array are equal: False\n",
      "Difference values: [ 0.00097656  0.00292969  0.00390625], indexes: (array([61143, 61143, 61143], dtype=int32), array([0, 1, 2], dtype=int32))\n",
      "Max absolute difference: 0.00390625\n",
      "Max relative difference: 0.0714285746216774\n"
     ]
    }
   ],
   "source": [
    "areEqual = np.array_equal(y_hls, y_float)\n",
    "print(\"Array are equal: {}\".format(areEqual))\n",
    "if not areEqual:\n",
    "    dy = np.abs(y_hls - y_float)\n",
    "    print(\"Difference values: {}, indexes: {}\".format(dy[np.where(dy>0)], np.where(dy>0)))\n",
    "    print(\"Max absolute difference: {}\".format(dy.max()))\n",
    "    print(\"Max relative difference: {}\".format((dy[np.where(y_hls > 0)] / np.abs(y_hls[np.where(y_hls > 0)])).max()))"
   ]
  },
  {
   "cell_type": "markdown",
   "metadata": {},
   "source": [
    "## Same code but different interface - `ap_fixed<16,6>`\n",
    "The cells you can run from this point on are the same as the one before. The difference is that the accelerator this time expects `ap_fixed<16,6>` data instead of `float`. This time an encoding/decoding function is required. Check the `predict` cell to see how the driver handle also this case."
   ]
  },
  {
   "cell_type": "code",
   "execution_count": 9,
   "metadata": {},
   "outputs": [
    {
     "name": "stdout",
     "output_type": "stream",
     "text": [
      "Help on NN in module __main__ object:\n",
      "\n",
      "class NN(pynq.overlay.DefaultHierarchy)\n",
      " |  Hierarchy driver related to the hierarchy composed by the AXI DMA module + the HLS accelerator.\n",
      " |  It uses the AxiLiteNN class to write the number of rows of the input matrix to the accelerator.\n",
      " |  \n",
      " |  Method resolution order:\n",
      " |      NN\n",
      " |      pynq.overlay.DefaultHierarchy\n",
      " |      pynq.overlay._IPMap\n",
      " |      builtins.object\n",
      " |  \n",
      " |  Methods defined here:\n",
      " |  \n",
      " |  __init__(self, description)\n",
      " |      Create a new _IPMap based on a hierarchical description.\n",
      " |  \n",
      " |  predict(self, X, y_shape, dtype=<class 'numpy.float32'>, profile=False, encode=None, decode=None)\n",
      " |      Obtain the predictions of the NN implemented in the FPGA.\n",
      " |      Parameters:\n",
      " |      - X : the input vector. Should be numpy ndarray.\n",
      " |      - y_shape : the shape of the output vector. Needed to the accelerator to set the TLAST bit properly and\n",
      " |                  for sizing the output vector shape.\n",
      " |      - dtype : the data type of the elements of the input/output vectors. \n",
      " |                Note: it should be set depending on the interface of the accelerator; if it uses 'float' \n",
      " |                types for the 'data' AXI-Stream field, 'np.float32' dtype is the correct one to use. \n",
      " |                Instead if it uses 'ap_fixed<A,B>', 'np.intA' is the correct one to use (note that A cannot\n",
      " |                any integer value, but it can assume {..., 8, 16, 32, ...} values. Check `numpy` \n",
      " |                doc for more info).\n",
      " |                In this case the encoding/decoding has to be computed by the PS. For example for \n",
      " |                'ap_fixed<16,6>' type the following 2 functions are the correct one to use for encode/decode \n",
      " |                'float' -> 'ap_fixed<16,6>':\n",
      " |                \n",
      " |                ```\n",
      " |                  def encode(xi):\n",
      " |                      return np.int16(round(xi * 2**10)) # note 2**10 = 2**(A-B)\n",
      " |      \n",
      " |                  def decode(yi):\n",
      " |                      return yi * 2**-10\n",
      " |      \n",
      " |                  encode_v = np.vectorize(encode) # to apply them element-wise\n",
      " |                  decode_v = np.vectorize(decode)\n",
      " |                ```\n",
      " |      - profile : boolean. Set it to `True` to print the performance of the algorithm in term of `inference/s`.\n",
      " |      - encode/decode: function pointers. See `dtype` section for more information.\n",
      " |      - return: an output array based on `np.ndarray` with a shape equal to `y_shape` and a `dtype` equal to\n",
      " |                the namesake parameter.\n",
      " |  \n",
      " |  ----------------------------------------------------------------------\n",
      " |  Static methods defined here:\n",
      " |  \n",
      " |  checkhierarchy(description)\n",
      " |      Function to check if the driver matches a particular hierarchy\n",
      " |      \n",
      " |      This function should be redefined in derived classes to return True\n",
      " |      if the description matches what is expected by the driver. The default\n",
      " |      implementation always returns False so that drivers that forget don't\n",
      " |      get loaded for hierarchies they don't expect.\n",
      " |  \n",
      " |  ----------------------------------------------------------------------\n",
      " |  Methods inherited from pynq.overlay.DefaultHierarchy:\n",
      " |  \n",
      " |  download(self, bitfile_name, dtbo)\n",
      " |      Function to download a partial bitstream for the hierarchy block.\n",
      " |      \n",
      " |      Since it is hard to know which hierarchy is to be reconfigured by only\n",
      " |      looking at the metadata, we assume users will tell this information.\n",
      " |      Thus, this function should be called only when users are sure about\n",
      " |      the hierarchy name of the partial region.\n",
      " |      \n",
      " |      Parameters\n",
      " |      ----------\n",
      " |      bitfile_name : str\n",
      " |          The name of the partial bitstream.\n",
      " |      dtbo : str\n",
      " |          The relative or absolute path of the partial dtbo file.\n",
      " |  \n",
      " |  ----------------------------------------------------------------------\n",
      " |  Methods inherited from pynq.overlay._IPMap:\n",
      " |  \n",
      " |  __dir__(self)\n",
      " |      __dir__() -> list\n",
      " |      default dir() implementation\n",
      " |  \n",
      " |  __getattr__(self, key)\n",
      " |  \n",
      " |  ----------------------------------------------------------------------\n",
      " |  Data descriptors inherited from pynq.overlay._IPMap:\n",
      " |  \n",
      " |  __dict__\n",
      " |      dictionary for instance variables (if defined)\n",
      " |  \n",
      " |  __weakref__\n",
      " |      list of weak references to the object (if defined)\n",
      "\n"
     ]
    }
   ],
   "source": [
    "overlay = Overlay(\"./nn_fixed.bit\")\n",
    "nn = overlay.hier_0\n",
    "help(nn)"
   ]
  },
  {
   "cell_type": "code",
   "execution_count": 10,
   "metadata": {},
   "outputs": [],
   "source": [
    "def encode(xi):\n",
    "    return np.int16(round(xi * 2**10))\n",
    "\n",
    "def decode(yi):\n",
    "    return yi * 2**-10\n",
    "\n",
    "encode_v = np.vectorize(encode)\n",
    "decode_v = np.vectorize(decode)"
   ]
  },
  {
   "cell_type": "code",
   "execution_count": 11,
   "metadata": {},
   "outputs": [
    {
     "name": "stdout",
     "output_type": "stream",
     "text": [
      "Classified 166000 samples in 51.427612 seconds (3227.8379948888155 inferences / s)\n",
      "[[ 0.45214844  0.31054688  0.03027344  0.14648438  0.15625   ]\n",
      " [ 0.07128906  0.68066406  0.01367188  0.15136719  0.09765625]\n",
      " [ 0.11425781  0.05664062  0.84570312  0.          0.00585938]\n",
      " ..., \n",
      " [ 0.01757812  0.06640625  0.07128906  0.82128906  0.0625    ]\n",
      " [ 0.03710938  0.109375    0.86425781  0.          0.00585938]\n",
      " [ 0.0625      0.05566406  0.1171875   0.67871094  0.0859375 ]]\n"
     ]
    }
   ],
   "source": [
    "y_fixed, dts_fixed, rate_fixed = nn.predict(X, y_hls.shape, dtype=np.int16, profile=True, encode=encode_v, decode=decode_v)\n",
    "print(y_fixed)"
   ]
  },
  {
   "cell_type": "code",
   "execution_count": 12,
   "metadata": {},
   "outputs": [
    {
     "name": "stdout",
     "output_type": "stream",
     "text": [
      "Array are equal: False\n",
      "Difference values: [ 0.00097656  0.01074219  0.00390625 ...,  0.00683594  0.00878906\n",
      "  0.00585938], indexes: (array([     9,      9,      9, ..., 165983, 165983, 165996], dtype=int32), array([0, 3, 4, ..., 1, 4, 1], dtype=int32))\n",
      "Max absolute difference: 0.166015625\n",
      "Max relative difference: 1.0\n"
     ]
    }
   ],
   "source": [
    "areEqual = np.array_equal(y_hls, y_fixed)\n",
    "print(\"Array are equal: {}\".format(areEqual))\n",
    "if not areEqual:\n",
    "    dy = np.abs(y_hls - y_fixed)\n",
    "    print(\"Difference values: {}, indexes: {}\".format(dy[np.where(dy>0)], np.where(dy>0)))\n",
    "    print(\"Max absolute difference: {}\".format(dy.max()))\n",
    "    print(\"Max relative difference: {}\".format((dy[np.where(y_hls > 0)] / np.abs(y_hls[np.where(y_hls > 0)])).max()))"
   ]
  },
  {
   "cell_type": "markdown",
   "metadata": {},
   "source": [
    "## Same code but different interface - `hls::stream`"
   ]
  },
  {
   "cell_type": "code",
   "execution_count": 13,
   "metadata": {},
   "outputs": [
    {
     "name": "stdout",
     "output_type": "stream",
     "text": [
      "Help on NN in module __main__ object:\n",
      "\n",
      "class NN(pynq.overlay.DefaultHierarchy)\n",
      " |  Hierarchy driver related to the hierarchy composed by the AXI DMA module + the HLS accelerator.\n",
      " |  It uses the AxiLiteNN class to write the number of rows of the input matrix to the accelerator.\n",
      " |  \n",
      " |  Method resolution order:\n",
      " |      NN\n",
      " |      pynq.overlay.DefaultHierarchy\n",
      " |      pynq.overlay._IPMap\n",
      " |      builtins.object\n",
      " |  \n",
      " |  Methods defined here:\n",
      " |  \n",
      " |  __init__(self, description)\n",
      " |      Create a new _IPMap based on a hierarchical description.\n",
      " |  \n",
      " |  predict(self, X, y_shape, dtype=<class 'numpy.float32'>, profile=False, encode=None, decode=None)\n",
      " |      Obtain the predictions of the NN implemented in the FPGA.\n",
      " |      Parameters:\n",
      " |      - X : the input vector. Should be numpy ndarray.\n",
      " |      - y_shape : the shape of the output vector. Needed to the accelerator to set the TLAST bit properly and\n",
      " |                  for sizing the output vector shape.\n",
      " |      - dtype : the data type of the elements of the input/output vectors. \n",
      " |                Note: it should be set depending on the interface of the accelerator; if it uses 'float' \n",
      " |                types for the 'data' AXI-Stream field, 'np.float32' dtype is the correct one to use. \n",
      " |                Instead if it uses 'ap_fixed<A,B>', 'np.intA' is the correct one to use (note that A cannot\n",
      " |                any integer value, but it can assume {..., 8, 16, 32, ...} values. Check `numpy` \n",
      " |                doc for more info).\n",
      " |                In this case the encoding/decoding has to be computed by the PS. For example for \n",
      " |                'ap_fixed<16,6>' type the following 2 functions are the correct one to use for encode/decode \n",
      " |                'float' -> 'ap_fixed<16,6>':\n",
      " |                \n",
      " |                ```\n",
      " |                  def encode(xi):\n",
      " |                      return np.int16(round(xi * 2**10)) # note 2**10 = 2**(A-B)\n",
      " |      \n",
      " |                  def decode(yi):\n",
      " |                      return yi * 2**-10\n",
      " |      \n",
      " |                  encode_v = np.vectorize(encode) # to apply them element-wise\n",
      " |                  decode_v = np.vectorize(decode)\n",
      " |                ```\n",
      " |      - profile : boolean. Set it to `True` to print the performance of the algorithm in term of `inference/s`.\n",
      " |      - encode/decode: function pointers. See `dtype` section for more information.\n",
      " |      - return: an output array based on `np.ndarray` with a shape equal to `y_shape` and a `dtype` equal to\n",
      " |                the namesake parameter.\n",
      " |  \n",
      " |  ----------------------------------------------------------------------\n",
      " |  Static methods defined here:\n",
      " |  \n",
      " |  checkhierarchy(description)\n",
      " |      Function to check if the driver matches a particular hierarchy\n",
      " |      \n",
      " |      This function should be redefined in derived classes to return True\n",
      " |      if the description matches what is expected by the driver. The default\n",
      " |      implementation always returns False so that drivers that forget don't\n",
      " |      get loaded for hierarchies they don't expect.\n",
      " |  \n",
      " |  ----------------------------------------------------------------------\n",
      " |  Methods inherited from pynq.overlay.DefaultHierarchy:\n",
      " |  \n",
      " |  download(self, bitfile_name, dtbo)\n",
      " |      Function to download a partial bitstream for the hierarchy block.\n",
      " |      \n",
      " |      Since it is hard to know which hierarchy is to be reconfigured by only\n",
      " |      looking at the metadata, we assume users will tell this information.\n",
      " |      Thus, this function should be called only when users are sure about\n",
      " |      the hierarchy name of the partial region.\n",
      " |      \n",
      " |      Parameters\n",
      " |      ----------\n",
      " |      bitfile_name : str\n",
      " |          The name of the partial bitstream.\n",
      " |      dtbo : str\n",
      " |          The relative or absolute path of the partial dtbo file.\n",
      " |  \n",
      " |  ----------------------------------------------------------------------\n",
      " |  Methods inherited from pynq.overlay._IPMap:\n",
      " |  \n",
      " |  __dir__(self)\n",
      " |      __dir__() -> list\n",
      " |      default dir() implementation\n",
      " |  \n",
      " |  __getattr__(self, key)\n",
      " |  \n",
      " |  ----------------------------------------------------------------------\n",
      " |  Data descriptors inherited from pynq.overlay._IPMap:\n",
      " |  \n",
      " |  __dict__\n",
      " |      dictionary for instance variables (if defined)\n",
      " |  \n",
      " |  __weakref__\n",
      " |      list of weak references to the object (if defined)\n",
      "\n"
     ]
    }
   ],
   "source": [
    "overlay = Overlay(\"./nn_stream.bit\")\n",
    "nn = overlay.hier_0\n",
    "help(nn)"
   ]
  },
  {
   "cell_type": "code",
   "execution_count": 14,
   "metadata": {},
   "outputs": [
    {
     "name": "stdout",
     "output_type": "stream",
     "text": [
      "Classified 166000 samples in 0.926368 seconds (179194.44540398632 inferences / s)\n",
      "[[ 0.45214844  0.31054688  0.03027344  0.14648438  0.15625   ]\n",
      " [ 0.07128906  0.68066406  0.01367188  0.15136719  0.09765625]\n",
      " [ 0.11425781  0.05664062  0.84570312  0.          0.00585938]\n",
      " ..., \n",
      " [ 0.01757812  0.06640625  0.07128906  0.82128906  0.0625    ]\n",
      " [ 0.03710938  0.109375    0.86425781  0.          0.00585938]\n",
      " [ 0.0625      0.05566406  0.1171875   0.67871094  0.0859375 ]]\n"
     ]
    }
   ],
   "source": [
    "y_stream, dts_stream, rate_stream = nn.predict(X, y_hls.shape, profile=True)\n",
    "print(y_float)"
   ]
  },
  {
   "cell_type": "code",
   "execution_count": 15,
   "metadata": {},
   "outputs": [
    {
     "name": "stdout",
     "output_type": "stream",
     "text": [
      "Array are equal: False\n",
      "Difference values: [ 0.00097656  0.00292969  0.00390625], indexes: (array([61143, 61143, 61143], dtype=int32), array([0, 1, 2], dtype=int32))\n",
      "Max absolute difference: 0.00390625\n",
      "Max relative difference: 0.0714285746216774\n"
     ]
    }
   ],
   "source": [
    "areEqual = np.array_equal(y_hls, y_stream)\n",
    "print(\"Array are equal: {}\".format(areEqual))\n",
    "if not areEqual:\n",
    "    dy = np.abs(y_hls - y_stream)\n",
    "    print(\"Difference values: {}, indexes: {}\".format(dy[np.where(dy>0)], np.where(dy>0)))\n",
    "    print(\"Max absolute difference: {}\".format(dy.max()))\n",
    "    print(\"Max relative difference: {}\".format((dy[np.where(y_hls > 0)] / np.abs(y_hls[np.where(y_hls > 0)])).max()))"
   ]
  },
  {
   "cell_type": "code",
   "execution_count": 16,
   "metadata": {},
   "outputs": [
    {
     "name": "stdout",
     "output_type": "stream",
     "text": [
      "Rate comparison\n",
      "Fixed point rate:       3227.8379948888155 inferences/s\n",
      "Floating point rate:    186633.23758073855 inferences/s\n",
      "Stream rate:            179194.44540398632 inferences/s\n",
      "Floating point speedup: 58x\n",
      "Stream speedup:         56x\n"
     ]
    }
   ],
   "source": [
    "print(\"Rate comparison\")\n",
    "print(\"Fixed point rate:       {} inferences/s\".format(rate_fixed))\n",
    "print(\"Floating point rate:    {} inferences/s\".format(rate_float))\n",
    "print(\"Stream rate:            {} inferences/s\".format(rate_stream))\n",
    "print(\"Floating point speedup: {}x\".format(round(dts_fixed/dts_float)))\n",
    "print(\"Stream speedup:         {}x\".format(round(dts_fixed/dts_stream)))"
   ]
  },
  {
   "cell_type": "markdown",
   "metadata": {},
   "source": [
    "## Results\n",
    "Floating-point version is approx. 60x faster than fixed point one. Delegating the encode/decode part to the PL seems effective for the throughput. Let's make a resource utilization comparison (taken from Vivado reports).\n",
    "\n",
    "| Interface | LUTs | SRLs | FFs | RAMB36 | RAMB18 | DSP48 |\n",
    "| :---: | :---: | :---: | :---: | :---: | :---: | :---: |\n",
    "| Floating-point 32 | 18321(34,442970%) | 266(1,533736%) | 19049(17,908195%) | 2(1,433571%) | 6(2,147857%) | 21(9,550455%) |\n",
    "| Fixed-point 16 |  17654(33,189211%) | 257(1,482011%) | 18333(17,235263%) | 2(1,433571%) | 6(2,147857%) | 21(9,550455%) |\n",
    "| Stream FP32 | 17192(32,320789%) | 387(2,229138%) | 19167(18,019098%) | 2(1,433571%) | 6(2,147857%) | 21(9,550455%) |"
   ]
  }
 ],
 "metadata": {
  "kernelspec": {
   "display_name": "Python 3",
   "language": "python",
   "name": "python3"
  },
  "language_info": {
   "codemirror_mode": {
    "name": "ipython",
    "version": 3
   },
   "file_extension": ".py",
   "mimetype": "text/x-python",
   "name": "python",
   "nbconvert_exporter": "python",
   "pygments_lexer": "ipython3",
   "version": "3.6.5"
  }
 },
 "nbformat": 4,
 "nbformat_minor": 2
}
